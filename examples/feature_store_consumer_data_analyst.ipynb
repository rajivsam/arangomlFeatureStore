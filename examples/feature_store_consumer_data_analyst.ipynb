{
 "cells": [
  {
   "cell_type": "markdown",
   "metadata": {
    "id": "y0IH6AffPp1S"
   },
   "source": [
    "<a href=\"https://colab.research.google.com/github/rajivsam/arangomlFeatureStore/blob/master/examples/feature_store_consumer_data_analyst.ipynb\">\n",
    "  <img src=\"https://colab.research.google.com/assets/colab-badge.svg\" alt=\"Open In Colab\"/>\n",
    "</a>"
   ]
  },
  {
   "cell_type": "markdown",
   "metadata": {},
   "source": [
    "## Overview\n",
    "The purpose of this notebook is to show how a data analyst can use embeddings associated with movie ratings dataset to understand user preferences and run ad-hoc analysis on users. A similar kind of analysis can be performed to understand insights about movies as well. The notebook connects to the feature store containing the user embeddings. Execute the last cell of the notebook \"feature_store_producer_DS.ipynb\" to obtain the connection information. The connection information provided here is representative and provided for illustration only. You will need to replace this with the connection information that is valid for your session."
   ]
  },
  {
   "cell_type": "markdown",
   "metadata": {},
   "source": [
    "## Install the pre-requisite packages"
   ]
  },
  {
   "cell_type": "code",
   "execution_count": null,
   "metadata": {
    "colab": {
     "base_uri": "https://localhost:8080/",
     "height": 1000
    },
    "id": "R4bTrCzD-U6y",
    "outputId": "86667078-bf25-4eb4-8b1e-5881c86e70ef"
   },
   "outputs": [],
   "source": [
    "!pip install -i https://test.pypi.org/simple/ arangomlFeatureStore\n",
    "!pip install  pyArango python-arango PyYAML==5.2 scikit-surprise hdbscan"
   ]
  },
  {
   "cell_type": "markdown",
   "metadata": {},
   "source": [
    "## Provide the connection information to the Feature Store\n",
    "__Note: THIS IS REPRESENTATIVE AND PROVIDED FOR ILLUSTRATION. REPLACE WITH INFORMATION VALID FOR YOUR SESSION__ "
   ]
  },
  {
   "cell_type": "code",
   "execution_count": null,
   "metadata": {
    "id": "Ma0qD-TNFvjd"
   },
   "outputs": [],
   "source": [
    "connection_info_producer_fs = {'dbName': 'TUTpoaywuvsyv9bogx0e3vdnr',\n",
    " 'edge_col': 'entity-feature-value',\n",
    " 'entity_col': 'entity',\n",
    " 'feature_value_col': 'feature-value',\n",
    " 'graph_name': 'feature_store_graph',\n",
    " 'hostname': 'tutorials.arangodb.cloud',\n",
    " 'password': 'TUTc9fby27ixqcidev68cmxbc',\n",
    " 'port': 8529,\n",
    " 'protocol': 'https',\n",
    " 'replication_factor': 3,\n",
    " 'username': 'TUTu6kipkgspt01shbmdi3gg9'}"
   ]
  },
  {
   "cell_type": "markdown",
   "metadata": {},
   "source": [
    "## Set up the arangomlFeatureStore for use in colab"
   ]
  },
  {
   "cell_type": "code",
   "execution_count": null,
   "metadata": {
    "colab": {
     "base_uri": "https://localhost:8080/"
    },
    "id": "rpO7my6RF0Ah",
    "outputId": "175eb9d0-cabd-427e-bbf8-6f0306a6b8e3"
   },
   "outputs": [],
   "source": [
    "import arangomlFeatureStore as p\n",
    "import numpy as np\n",
    "import sys\n",
    "import json\n",
    "import pandas as pd\n",
    "sys.path.append(p.__path__)\n",
    "print(f\"Feature store at {p.__path__}\")\n",
    "sys.path.insert(0, p.__path__)\n"
   ]
  },
  {
   "cell_type": "code",
   "execution_count": null,
   "metadata": {
    "id": "6lbCLtjWGFgu"
   },
   "outputs": [],
   "source": [
    "!chmod -R 777 /usr/local/lib/python3.7/dist-packages/arangomlFeatureStore"
   ]
  },
  {
   "cell_type": "code",
   "execution_count": null,
   "metadata": {
    "id": "IzFUOdFTGI3c"
   },
   "outputs": [],
   "source": [
    "from arangomlFeatureStore.feature_store_admin import FeatureStoreAdmin\n",
    "from arango.database import StandardDatabase"
   ]
  },
  {
   "cell_type": "markdown",
   "metadata": {},
   "source": [
    "## Connect to the FeatureStore specified by the connection information"
   ]
  },
  {
   "cell_type": "code",
   "execution_count": null,
   "metadata": {
    "id": "68IULrAfGMEf"
   },
   "outputs": [],
   "source": [
    "fa = FeatureStoreAdmin(conn_config = connection_info_producer_fs)"
   ]
  },
  {
   "cell_type": "code",
   "execution_count": null,
   "metadata": {
    "id": "mTImRj4lu-kD"
   },
   "outputs": [],
   "source": [
    "fs = fa.get_feature_store()"
   ]
  },
  {
   "cell_type": "markdown",
   "metadata": {},
   "source": [
    "## Retrieve the Item embeddings and User embeddings associated with the tags _NMF-item-embeddings_ and _NMF-user-embeddings_ respectively"
   ]
  },
  {
   "cell_type": "code",
   "execution_count": null,
   "metadata": {
    "id": "uhZqVYkZGS2t"
   },
   "outputs": [],
   "source": [
    "item_embs = fs.get_featureset_with_tag('tag', 'NMF-item-embeddings')"
   ]
  },
  {
   "cell_type": "code",
   "execution_count": null,
   "metadata": {
    "id": "vq9mp9RiGnAH"
   },
   "outputs": [],
   "source": [
    "user_embs = fs.get_featureset_with_tag('tag', 'NMF-user-embeddings')"
   ]
  },
  {
   "cell_type": "markdown",
   "metadata": {},
   "source": [
    "## Need to convert JSON to numeric type (Marshalling and Unmarshalling from JSON to Python)"
   ]
  },
  {
   "cell_type": "code",
   "execution_count": null,
   "metadata": {
    "id": "9OC_AeuxFBWh"
   },
   "outputs": [],
   "source": [
    "emblist = [json.loads(user['embedding']) for user in user_embs]"
   ]
  },
  {
   "cell_type": "code",
   "execution_count": null,
   "metadata": {
    "id": "4XwvA-k1J4ME"
   },
   "outputs": [],
   "source": [
    "uidlist = [user['_key'] for user in user_embs]"
   ]
  },
  {
   "cell_type": "markdown",
   "metadata": {},
   "source": [
    "## Set up a Pandas DataFrame with User Embeddings"
   ]
  },
  {
   "cell_type": "code",
   "execution_count": null,
   "metadata": {
    "id": "lUQtHPVhJ7EL"
   },
   "outputs": [],
   "source": [
    "df_user_embs = pd.DataFrame(emblist, columns = [\"dim_\" + str(i+1) for i in range(5)])"
   ]
  },
  {
   "cell_type": "markdown",
   "metadata": {},
   "source": [
    "## Cluster user embeddings with hdbscan"
   ]
  },
  {
   "cell_type": "code",
   "execution_count": null,
   "metadata": {
    "id": "1EgeirX4KPVK"
   },
   "outputs": [],
   "source": [
    "import hdbscan\n",
    "clusterer = hdbscan.HDBSCAN(min_samples=5)"
   ]
  },
  {
   "cell_type": "code",
   "execution_count": null,
   "metadata": {
    "colab": {
     "base_uri": "https://localhost:8080/"
    },
    "id": "yGYxspV_NAbI",
    "outputId": "e26d0816-deae-4548-edb3-da92d942bfcb"
   },
   "outputs": [],
   "source": [
    "clusterer.fit(df_user_embs)"
   ]
  },
  {
   "cell_type": "code",
   "execution_count": null,
   "metadata": {
    "id": "DOurjWi1NctW"
   },
   "outputs": [],
   "source": [
    "import seaborn as sns\n",
    "import matplotlib.pyplot as plt\n"
   ]
  },
  {
   "cell_type": "code",
   "execution_count": null,
   "metadata": {
    "id": "OeWpAk9BN87Q"
   },
   "outputs": [],
   "source": [
    "from sklearn.manifold import TSNE"
   ]
  },
  {
   "cell_type": "code",
   "execution_count": null,
   "metadata": {
    "colab": {
     "base_uri": "https://localhost:8080/",
     "height": 583
    },
    "id": "YK375d73ODDx",
    "outputId": "b48fe135-7611-4ddd-a33b-ed197a31e747"
   },
   "outputs": [],
   "source": [
    "plot_kwds = {'alpha' : 0.25, 's' : 10, 'linewidths':0}\n",
    "fig = plt.figure(figsize=(11.7,8.27))\n",
    "projection = TSNE().fit_transform(df_user_embs)\n",
    "plt.scatter(*projection.T, **plot_kwds)"
   ]
  },
  {
   "cell_type": "code",
   "execution_count": null,
   "metadata": {
    "colab": {
     "base_uri": "https://localhost:8080/",
     "height": 513
    },
    "id": "x9IQotG6NqKf",
    "outputId": "a718374d-4989-44a4-e1f2-e2acec0d4858"
   },
   "outputs": [],
   "source": [
    "color_palette = sns.color_palette('tab10')\n",
    "fig = plt.figure(figsize=(11.7,8.27))\n",
    "cluster_colors = [color_palette[x] if x >= 0\n",
    "                  else (0.5, 0.5, 0.5)\n",
    "                  for x in clusterer.labels_]\n",
    "cluster_member_colors = [sns.desaturate(x, p) for x, p in\n",
    "                         zip(cluster_colors, clusterer.probabilities_)]\n",
    "plt.scatter(*projection.T, s=20, linewidth=0, c=cluster_member_colors, alpha=0.25)"
   ]
  },
  {
   "cell_type": "code",
   "execution_count": null,
   "metadata": {
    "colab": {
     "base_uri": "https://localhost:8080/"
    },
    "id": "dj_bXdWsOzcW",
    "outputId": "96fb645f-49a5-46ba-e9be-6a9a9b52ba9f"
   },
   "outputs": [],
   "source": [
    "np.unique(clusterer.labels_)"
   ]
  },
  {
   "cell_type": "code",
   "execution_count": null,
   "metadata": {
    "colab": {
     "base_uri": "https://localhost:8080/"
    },
    "id": "89ntVN3AQZxv",
    "outputId": "20ad8666-44e1-40f6-888b-37dfcf7bbe4d"
   },
   "outputs": [],
   "source": [
    "type(clusterer.labels_)"
   ]
  },
  {
   "cell_type": "markdown",
   "metadata": {},
   "source": [
    "## Clustering Observations\n",
    "1. User preferences group into two clusters\n",
    "2. A group of users have preferences that are not aligned with either user group - this is the noise cluster"
   ]
  },
  {
   "cell_type": "markdown",
   "metadata": {},
   "source": [
    "## Running Adhoc Analysis\n",
    "We can use a similarity search tool, for example, FAISS to perform ad-hoc similarity searches with user embeddings. The following segment installs FAISS and then uses it to search for users similar to a user."
   ]
  },
  {
   "cell_type": "markdown",
   "metadata": {},
   "source": [
    "## Install FAISS"
   ]
  },
  {
   "cell_type": "code",
   "execution_count": null,
   "metadata": {
    "colab": {
     "base_uri": "https://localhost:8080/"
    },
    "id": "MWUMlgauPwFq",
    "outputId": "1b51a156-e27e-48be-d786-97f37f0231c7"
   },
   "outputs": [],
   "source": [
    "!apt install libomp-dev\n",
    "!pip install faiss"
   ]
  },
  {
   "cell_type": "code",
   "execution_count": null,
   "metadata": {
    "id": "1lOwuMlAP963"
   },
   "outputs": [],
   "source": [
    "import faiss      "
   ]
  },
  {
   "cell_type": "markdown",
   "metadata": {},
   "source": [
    "## Setup a FAISS index"
   ]
  },
  {
   "cell_type": "code",
   "execution_count": null,
   "metadata": {
    "id": "Yk5-AS_WQglK"
   },
   "outputs": [],
   "source": [
    "EMB_SIZE = 5\n",
    "index = faiss.IndexFlatL2(EMB_SIZE)  "
   ]
  },
  {
   "cell_type": "code",
   "execution_count": null,
   "metadata": {
    "id": "yUfhh85GR8MK"
   },
   "outputs": [],
   "source": [
    "emb_array = np.stack(emblist)"
   ]
  },
  {
   "cell_type": "code",
   "execution_count": null,
   "metadata": {
    "id": "WKa23TMrSB4b"
   },
   "outputs": [],
   "source": [
    "emb_array = emb_array.astype('float32')"
   ]
  },
  {
   "cell_type": "code",
   "execution_count": null,
   "metadata": {
    "colab": {
     "base_uri": "https://localhost:8080/"
    },
    "id": "uqYdBOHzTBws",
    "outputId": "2fa4569f-9c8b-461f-b31a-11944abfc1dc"
   },
   "outputs": [],
   "source": [
    "index.add(emb_array)                  # add vectors to the index\n",
    "print(index.ntotal)\n"
   ]
  },
  {
   "cell_type": "markdown",
   "metadata": {},
   "source": [
    "## Search for Users similar to user # 6 (arrays are zero based) using FAISS"
   ]
  },
  {
   "cell_type": "code",
   "execution_count": null,
   "metadata": {
    "colab": {
     "base_uri": "https://localhost:8080/"
    },
    "id": "ri-IIEABTIWx",
    "outputId": "c2040359-b364-431a-d665-202b413f19b5"
   },
   "outputs": [],
   "source": [
    "k = 4                          # we want to see 4 nearest neighbors\n",
    "D, I = index.search(emb_array[:5], k) # sanity check\n",
    "print(I)\n",
    "print(D)"
   ]
  }
 ],
 "metadata": {
  "colab": {
   "collapsed_sections": [],
   "name": "feature_store_consumer_data_analyst.ipynb",
   "provenance": []
  },
  "kernelspec": {
   "display_name": "Python 3",
   "language": "python",
   "name": "python3"
  },
  "language_info": {
   "codemirror_mode": {
    "name": "ipython",
    "version": 3
   },
   "file_extension": ".py",
   "mimetype": "text/x-python",
   "name": "python",
   "nbconvert_exporter": "python",
   "pygments_lexer": "ipython3",
   "version": "3.7.6"
  }
 },
 "nbformat": 4,
 "nbformat_minor": 1
}
