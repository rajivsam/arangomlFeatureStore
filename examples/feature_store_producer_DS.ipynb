{
 "cells": [
  {
   "cell_type": "markdown",
   "metadata": {
    "id": "qL7NTqtMLao5"
   },
   "source": [
    "<a href=\"https://colab.research.google.com/github/rajivsam/arangomlFeatureStore/blob/master/examples/feature_store_producer_DS.ipynb\">\n",
    "  <img src=\"https://colab.research.google.com/assets/colab-badge.svg\" alt=\"Open In Colab\"/>\n",
    "</a>"
   ]
  },
  {
   "cell_type": "markdown",
   "metadata": {},
   "source": [
    "# Overview\n",
    "The purpose of this notebook is to illustrate how an application or a model that produces embeddings for entities can use the arangomlFeatureStore to store the embeddings it produces. These embeddings can be used by downstream applications, for example, recommender systems, or, by analysts for analysis done for purposes of extracting insights from the data. Notebooks that serve to illustrate these applications are also provided. This notebook uses a matrix factorization model to produce embeddings for the user and item entities for the ml-100k dataset. The sections that perform the tasks in developing the embeddings are appropriately labeled.\n"
   ]
  },
  {
   "cell_type": "markdown",
   "metadata": {},
   "source": [
    "\n",
    "## Clone the repository to get the data\n"
   ]
  },
  {
   "cell_type": "code",
   "execution_count": null,
   "metadata": {
    "colab": {
     "base_uri": "https://localhost:8080/"
    },
    "id": "NgewG6F62Z0D",
    "outputId": "8dd2b278-983c-4207-e016-2c42ed2c8d94"
   },
   "outputs": [],
   "source": [
    "!git clone -b master --single-branch https://github.com/rajivsam/arangomlFeatureStore.git\n",
    "!rsync -av  interactive_tutorials/notebooks/data  ./ --"
   ]
  },
  {
   "cell_type": "markdown",
   "metadata": {},
   "source": [
    "## Install required packages"
   ]
  },
  {
   "cell_type": "code",
   "execution_count": null,
   "metadata": {
    "colab": {
     "base_uri": "https://localhost:8080/"
    },
    "id": "4WZDzNXrJkHF",
    "outputId": "33db0649-5803-4b55-f2f5-b16c9c767b9e"
   },
   "outputs": [],
   "source": [
    "!pip install -i https://test.pypi.org/simple/ arangomlFeatureStore\n",
    "!pip install  pyArango python-arango PyYAML==5.2 numpy scikit-surprise"
   ]
  },
  {
   "cell_type": "markdown",
   "metadata": {},
   "source": [
    "## Create a Dataset entity for the Recommender package (Surprise)"
   ]
  },
  {
   "cell_type": "code",
   "execution_count": null,
   "metadata": {
    "colab": {
     "base_uri": "https://localhost:8080/"
    },
    "id": "Uylaoh1O4HDh",
    "outputId": "ce6f6df6-7103-43a0-94ce-f3f1ec11260e"
   },
   "outputs": [],
   "source": [
    "import os\n",
    "from surprise import BaselineOnly\n",
    "from surprise import Dataset\n",
    "from surprise import Reader\n",
    "from surprise.model_selection import cross_validate\n",
    "\n",
    "# path to dataset file\n",
    "file_path = os.path.expanduser('/content/arangomlFeatureStore/data/ml-100k/u.data')\n",
    "\n",
    "# As we're loading a custom dataset, we need to define a reader. In the\n",
    "# movielens-100k dataset, each line has the following format:\n",
    "# 'user item rating timestamp', separated by '\\t' characters.\n",
    "reader = Reader(line_format='user item rating timestamp', sep='\\t')\n",
    "\n",
    "data = Dataset.load_from_file(file_path, reader=reader)\n",
    "\n",
    "# We can now use this dataset as we please, e.g. calling cross_validate\n",
    "cross_validate(BaselineOnly(), data, verbose=True)\n"
   ]
  },
  {
   "cell_type": "markdown",
   "metadata": {},
   "source": [
    "## Add the arangomlFeatureStore to the Colab module search path"
   ]
  },
  {
   "cell_type": "code",
   "execution_count": null,
   "metadata": {
    "colab": {
     "base_uri": "https://localhost:8080/"
    },
    "id": "As8ZlI8YJ-0H",
    "outputId": "6fff9fd8-f23f-493f-f77f-b4e31c242714"
   },
   "outputs": [],
   "source": [
    "import arangomlFeatureStore as p\n",
    "import sys\n",
    "sys.path.append(p.__path__)\n",
    "print(f\"Feature store at {p.__path__}\")\n",
    "sys.path.insert(0, p.__path__)"
   ]
  },
  {
   "cell_type": "code",
   "execution_count": null,
   "metadata": {
    "id": "-RDEKwABKU6x"
   },
   "outputs": [],
   "source": [
    "!chmod -R 777 /usr/local/lib/python3.7/dist-packages/arangomlFeatureStore\n"
   ]
  },
  {
   "cell_type": "markdown",
   "metadata": {},
   "source": [
    "## Create the FeatureStore on Oasis"
   ]
  },
  {
   "cell_type": "code",
   "execution_count": null,
   "metadata": {
    "id": "ZCjNBIyJKnU5"
   },
   "outputs": [],
   "source": [
    "from arangomlFeatureStore.feature_store_admin import FeatureStoreAdmin\n",
    "from arango.database import StandardDatabase"
   ]
  },
  {
   "cell_type": "code",
   "execution_count": null,
   "metadata": {
    "colab": {
     "base_uri": "https://localhost:8080/"
    },
    "id": "407a1S5oKquc",
    "outputId": "2f11c9fc-1dbe-4dc7-ca36-617ae25d4ca5"
   },
   "outputs": [],
   "source": [
    "fa = FeatureStoreAdmin()"
   ]
  },
  {
   "cell_type": "markdown",
   "metadata": {},
   "source": [
    "## Develop a NMF Recommender model with 5 factors"
   ]
  },
  {
   "cell_type": "code",
   "execution_count": null,
   "metadata": {
    "colab": {
     "base_uri": "https://localhost:8080/"
    },
    "id": "qEYwaCLVLMpu",
    "outputId": "7411ab9f-fb2a-48ad-bfcc-6f68dddfb298"
   },
   "outputs": [],
   "source": [
    "from surprise import NMF\n",
    "from surprise import Dataset\n",
    "from surprise.model_selection import cross_validate\n",
    "\n",
    "\n",
    "# Use the NMF algorithm.\n",
    "algo = NMF(n_factors=5)\n",
    "\n",
    "# Run 5-fold cross-validation and print results.\n",
    "cross_validate(algo, data, measures=['RMSE', 'MAE'], cv=5, verbose=True)"
   ]
  },
  {
   "cell_type": "markdown",
   "metadata": {},
   "source": [
    "## Create User Entity\n",
    "Users are represented by the their id and rating history"
   ]
  },
  {
   "cell_type": "code",
   "execution_count": null,
   "metadata": {
    "id": "J7lr__Q2LQO6"
   },
   "outputs": [],
   "source": [
    "um_ratings = {}\n",
    "for uid, iid, rating, timestamp in data.raw_ratings:\n",
    "  if uid in um_ratings:\n",
    "    um_ratings[uid][iid] = rating\n",
    "  else:\n",
    "    um_ratings[uid] = {}"
   ]
  },
  {
   "cell_type": "markdown",
   "metadata": {},
   "source": [
    "## Trained Model has embeddings for User and Item"
   ]
  },
  {
   "cell_type": "code",
   "execution_count": null,
   "metadata": {
    "id": "P-y-qh78MUi2"
   },
   "outputs": [],
   "source": [
    "from surprise.model_selection import train_test_split\n",
    "#data = Dataset.load_builtin('ml-100k')\n",
    "\n",
    "# sample random trainset and testset\n",
    "# test set is made of 25% of the ratings.\n",
    "trainset, testset = train_test_split(data, test_size=.25)\n",
    "\n",
    "# We'll use the famous SVD algorithm.\n",
    "algo = NMF(n_factors=5)\n",
    "\n",
    "# Train the algorithm on the trainset, and predict ratings for the testset\n",
    "algo.fit(trainset)\n",
    "predictions = algo.test(testset)"
   ]
  },
  {
   "cell_type": "markdown",
   "metadata": {},
   "source": [
    "## The feature store interface has the functionality to write embeddings to the feature store"
   ]
  },
  {
   "cell_type": "code",
   "execution_count": null,
   "metadata": {
    "id": "9DzN87l4MkwU"
   },
   "outputs": [],
   "source": [
    "db = fa.db\n",
    "fs = fa.get_feature_store()"
   ]
  },
  {
   "cell_type": "markdown",
   "metadata": {},
   "source": [
    "## Write user, item, user embeddings and item embeddings to the feature store\n",
    "__NOTE: THE embeddings for the user and item for this data are tagged with the label NMF-user-embeddings and NMF-item-embeddings. These tags will be used by consumer applications to retrieve the user and item embeddings.__"
   ]
  },
  {
   "cell_type": "code",
   "execution_count": null,
   "metadata": {
    "id": "q4Lk4tNtMZx1"
   },
   "outputs": [],
   "source": [
    "# ENTITY_COLL = cfg['arangodb']['entity_col']\n",
    "import json\n",
    "\n",
    "for id in trainset.all_users():\n",
    "  ruid = trainset.to_raw_uid(id)\n",
    "  ratings_for_ruid = um_ratings[ruid] \n",
    "  user_data = {'_key': 'user-' + str(ruid), 'ratings': ratings_for_ruid}\n",
    "  user_info = fs.add_entity(user_data)\n",
    "  user_embedding = json.dumps(algo.pu[id].tolist())\n",
    "  value_data = {'_key': 'user-' + str(ruid), 'embedding': user_embedding}\n",
    "  emb_info = fs.add_value(value_data)\n",
    "  edoc = {'_from': user_info['_key'],'_to': emb_info['_key'], 'tag': 'NMF-user-embeddings'}\n",
    "  edge_info = fs.link_entity_feature_value(edoc)\n",
    "  #print(f\"iid: {id}, embedding: {algo.pu[id]}\")"
   ]
  },
  {
   "cell_type": "code",
   "execution_count": null,
   "metadata": {
    "id": "WKK_V77DOcqi"
   },
   "outputs": [],
   "source": [
    "for id in trainset.all_items():\n",
    "  riid = trainset.to_raw_iid(id) \n",
    "  item_data = {'_key': 'item-'+str(riid), 'type': 'item' }\n",
    "  item_info = fs.add_entity(item_data)\n",
    "  item_embedding = json.dumps(algo.qi[id].tolist())\n",
    "  value_data = {'_key': 'item-'+str(riid), 'embedding': item_embedding}\n",
    "  emb_info = fs.add_value(value_data)\n",
    "  edoc = {'_from': item_info['_key'],'_to': emb_info['_key'], 'tag': 'NMF-item-embeddings'}\n",
    "  edge_info = fs.link_entity_feature_value(edoc)"
   ]
  },
  {
   "cell_type": "code",
   "execution_count": null,
   "metadata": {
    "id": "CtFf-zoj98Ii"
   },
   "outputs": [],
   "source": [
    "fa2 = FeatureStoreAdmin(conn_config=fa.cfg['arangodb'])"
   ]
  },
  {
   "cell_type": "code",
   "execution_count": null,
   "metadata": {
    "colab": {
     "base_uri": "https://localhost:8080/"
    },
    "id": "_TyCtu9e-GCT",
    "outputId": "a0e57392-35d7-492e-ac26-381ac6932764"
   },
   "outputs": [],
   "source": [
    "fa.db_name == fa2.db_name"
   ]
  },
  {
   "cell_type": "markdown",
   "metadata": {},
   "source": [
    "## Connection information for the feature store can be obtained as shown below\n",
    "Note: The consumer applications would use the connection information obtained from executing the code segment below to connect to the feature store that has the embeddings stored."
   ]
  },
  {
   "cell_type": "code",
   "execution_count": null,
   "metadata": {
    "colab": {
     "base_uri": "https://localhost:8080/"
    },
    "id": "KI5dFu_7FqMN",
    "outputId": "cb7d436d-12e5-4442-a0ac-c47ed3a9e13a"
   },
   "outputs": [],
   "source": [
    "fa.cfg['arangodb']"
   ]
  }
 ],
 "metadata": {
  "colab": {
   "collapsed_sections": [],
   "name": "feature_store_producer_DS.ipynb",
   "provenance": []
  },
  "kernelspec": {
   "display_name": "Python 3",
   "language": "python",
   "name": "python3"
  },
  "language_info": {
   "codemirror_mode": {
    "name": "ipython",
    "version": 3
   },
   "file_extension": ".py",
   "mimetype": "text/x-python",
   "name": "python",
   "nbconvert_exporter": "python",
   "pygments_lexer": "ipython3",
   "version": "3.7.6"
  }
 },
 "nbformat": 4,
 "nbformat_minor": 1
}
