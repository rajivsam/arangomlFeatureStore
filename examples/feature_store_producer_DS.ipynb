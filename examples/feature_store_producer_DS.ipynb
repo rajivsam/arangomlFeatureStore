{
  "cells": [
    {
      "cell_type": "markdown",
      "metadata": {
        "id": "qL7NTqtMLao5"
      },
      "source": [
        "<a href=\"https://colab.research.google.com/github/rajivsam/arangomlFeatureStore/blob/master/examples/feature_store_producer_DS.ipynb\">\n",
        "  <img src=\"https://colab.research.google.com/assets/colab-badge.svg\" alt=\"Open In Colab\"/>\n",
        "</a>"
      ]
    },
    {
      "cell_type": "markdown",
      "metadata": {
        "id": "VPQv2wFhppyt"
      },
      "source": [
        "# Overview\n",
        "The purpose of this notebook is to illustrate how an application or a model that produces embeddings for entities can use the arangomlFeatureStore to store the embeddings it produces. These embeddings can be used by downstream applications, for example, recommender systems, or, by analysts for analysis done for purposes of extracting insights from the data. Notebooks that serve to illustrate these applications are also provided. This notebook uses a matrix factorization model to produce embeddings for the user and item entities for the ml-100k dataset. The sections that perform the tasks in developing the embeddings are appropriately labeled.\n"
      ]
    },
    {
      "cell_type": "markdown",
      "metadata": {
        "id": "CsAiSp_4ppyu"
      },
      "source": [
        "\n",
        "## Clone the repository to get the data\n"
      ]
    },
    {
      "cell_type": "code",
      "execution_count": 1,
      "metadata": {
        "colab": {
          "base_uri": "https://localhost:8080/"
        },
        "id": "NgewG6F62Z0D",
        "outputId": "1ea5d93a-9f9e-4991-cd87-dbe6ae20e204"
      },
      "outputs": [
        {
          "output_type": "stream",
          "name": "stdout",
          "text": [
            "Cloning into 'arangomlFeatureStore'...\n",
            "remote: Enumerating objects: 178, done.\u001b[K\n",
            "remote: Counting objects: 100% (178/178), done.\u001b[K\n",
            "remote: Compressing objects: 100% (121/121), done.\u001b[K\n",
            "remote: Total 178 (delta 75), reused 147 (delta 44), pack-reused 0\u001b[K\n",
            "Receiving objects: 100% (178/178), 7.59 MiB | 5.64 MiB/s, done.\n",
            "Resolving deltas: 100% (75/75), done.\n",
            "sending incremental file list\n",
            "rsync: change_dir \"/content//interactive_tutorials/notebooks\" failed: No such file or directory (2)\n",
            "\n",
            "sent 20 bytes  received 12 bytes  64.00 bytes/sec\n",
            "total size is 0  speedup is 0.00\n",
            "rsync error: some files/attrs were not transferred (see previous errors) (code 23) at main.c(1196) [sender=3.1.2]\n"
          ]
        }
      ],
      "source": [
        "!git clone -b master --single-branch https://github.com/rajivsam/arangomlFeatureStore.git\n",
        "!rsync -av  interactive_tutorials/notebooks/data  ./ --"
      ]
    },
    {
      "cell_type": "markdown",
      "metadata": {
        "id": "gH5EQeXgppyv"
      },
      "source": [
        "## Install required packages"
      ]
    },
    {
      "cell_type": "code",
      "execution_count": 2,
      "metadata": {
        "colab": {
          "base_uri": "https://localhost:8080/"
        },
        "id": "4WZDzNXrJkHF",
        "outputId": "ebe43c24-0d00-44ad-f08f-6f3d8f1514f9"
      },
      "outputs": [
        {
          "output_type": "stream",
          "name": "stdout",
          "text": [
            "Looking in indexes: https://test.pypi.org/simple/\n",
            "Collecting arangomlFeatureStore\n",
            "  Downloading https://test-files.pythonhosted.org/packages/5e/93/2794112f2222124281a3fee90f41c64432df6a7eb8dedd2952c01d4a6992/arangomlFeatureStore-0.0.7.8-py3-none-any.whl (9.1 kB)\n",
            "Installing collected packages: arangomlFeatureStore\n",
            "Successfully installed arangomlFeatureStore-0.0.7.8\n",
            "Collecting pyArango\n",
            "  Downloading pyArango-2.0.1.tar.gz (50 kB)\n",
            "\u001b[K     |████████████████████████████████| 50 kB 2.5 MB/s \n",
            "\u001b[?25hCollecting python-arango\n",
            "  Downloading python_arango-7.3.1-py3-none-any.whl (96 kB)\n",
            "\u001b[K     |████████████████████████████████| 96 kB 3.6 MB/s \n",
            "\u001b[?25hCollecting PyYAML==5.2\n",
            "  Downloading PyYAML-5.2.tar.gz (265 kB)\n",
            "\u001b[K     |████████████████████████████████| 265 kB 48.7 MB/s \n",
            "\u001b[?25hRequirement already satisfied: numpy in /usr/local/lib/python3.7/dist-packages (1.21.5)\n",
            "Collecting scikit-surprise\n",
            "  Downloading scikit-surprise-1.1.1.tar.gz (11.8 MB)\n",
            "\u001b[K     |████████████████████████████████| 11.8 MB 46.9 MB/s \n",
            "\u001b[?25hRequirement already satisfied: requests>=2.7.0 in /usr/local/lib/python3.7/dist-packages (from pyArango) (2.23.0)\n",
            "Requirement already satisfied: future in /usr/local/lib/python3.7/dist-packages (from pyArango) (0.16.0)\n",
            "Collecting datetime\n",
            "  Downloading DateTime-4.4-py2.py3-none-any.whl (51 kB)\n",
            "\u001b[K     |████████████████████████████████| 51 kB 437 kB/s \n",
            "\u001b[?25hRequirement already satisfied: idna<3,>=2.5 in /usr/local/lib/python3.7/dist-packages (from requests>=2.7.0->pyArango) (2.10)\n",
            "Requirement already satisfied: chardet<4,>=3.0.2 in /usr/local/lib/python3.7/dist-packages (from requests>=2.7.0->pyArango) (3.0.4)\n",
            "Requirement already satisfied: certifi>=2017.4.17 in /usr/local/lib/python3.7/dist-packages (from requests>=2.7.0->pyArango) (2021.10.8)\n",
            "Requirement already satisfied: urllib3!=1.25.0,!=1.25.1,<1.26,>=1.21.1 in /usr/local/lib/python3.7/dist-packages (from requests>=2.7.0->pyArango) (1.24.3)\n",
            "Collecting setuptools-scm[toml]>=3.4\n",
            "  Downloading setuptools_scm-6.4.2-py3-none-any.whl (37 kB)\n",
            "Collecting PyJWT\n",
            "  Downloading PyJWT-2.3.0-py3-none-any.whl (16 kB)\n",
            "Collecting requests-toolbelt\n",
            "  Downloading requests_toolbelt-0.9.1-py2.py3-none-any.whl (54 kB)\n",
            "\u001b[K     |████████████████████████████████| 54 kB 2.1 MB/s \n",
            "\u001b[?25hRequirement already satisfied: setuptools>=42 in /usr/local/lib/python3.7/dist-packages (from python-arango) (57.4.0)\n",
            "Collecting python-arango\n",
            "  Downloading python_arango-7.3.0-py3-none-any.whl (95 kB)\n",
            "\u001b[K     |████████████████████████████████| 95 kB 4.2 MB/s \n",
            "\u001b[?25h  Downloading python_arango-7.2.0-py3-none-any.whl (94 kB)\n",
            "\u001b[K     |████████████████████████████████| 94 kB 3.2 MB/s \n",
            "\u001b[?25h  Downloading python_arango-7.1.0-py3-none-any.whl (94 kB)\n",
            "\u001b[K     |████████████████████████████████| 94 kB 2.7 MB/s \n",
            "\u001b[?25h  Downloading python_arango-7.0.1-py3-none-any.whl (94 kB)\n",
            "\u001b[K     |████████████████████████████████| 94 kB 2.9 MB/s \n",
            "\u001b[?25hRequirement already satisfied: packaging>=20.0 in /usr/local/lib/python3.7/dist-packages (from setuptools-scm[toml]>=3.4->python-arango) (21.3)\n",
            "Requirement already satisfied: tomli>=1.0.0 in /usr/local/lib/python3.7/dist-packages (from setuptools-scm[toml]>=3.4->python-arango) (2.0.1)\n",
            "Requirement already satisfied: pyparsing!=3.0.5,>=2.0.2 in /usr/local/lib/python3.7/dist-packages (from packaging>=20.0->setuptools-scm[toml]>=3.4->python-arango) (3.0.7)\n",
            "Requirement already satisfied: joblib>=0.11 in /usr/local/lib/python3.7/dist-packages (from scikit-surprise) (1.1.0)\n",
            "Requirement already satisfied: scipy>=1.0.0 in /usr/local/lib/python3.7/dist-packages (from scikit-surprise) (1.4.1)\n",
            "Requirement already satisfied: six>=1.10.0 in /usr/local/lib/python3.7/dist-packages (from scikit-surprise) (1.15.0)\n",
            "Requirement already satisfied: pytz in /usr/local/lib/python3.7/dist-packages (from datetime->pyArango) (2018.9)\n",
            "Collecting zope.interface\n",
            "  Downloading zope.interface-5.4.0-cp37-cp37m-manylinux2010_x86_64.whl (251 kB)\n",
            "\u001b[K     |████████████████████████████████| 251 kB 56.9 MB/s \n",
            "\u001b[?25hBuilding wheels for collected packages: PyYAML, pyArango, scikit-surprise\n",
            "  Building wheel for PyYAML (setup.py) ... \u001b[?25l\u001b[?25hdone\n",
            "  Created wheel for PyYAML: filename=PyYAML-5.2-cp37-cp37m-linux_x86_64.whl size=44225 sha256=c17a9f9f10c3443ddffde8266f6016b79caaf1757d1b0ef98fb3563658d48e64\n",
            "  Stored in directory: /root/.cache/pip/wheels/c5/67/65/80b02387630c3794fc9bab68ca0de3dd87d639d65936026527\n",
            "  Building wheel for pyArango (setup.py) ... \u001b[?25l\u001b[?25hdone\n",
            "  Created wheel for pyArango: filename=pyArango-2.0.1-py2.py3-none-any.whl size=52259 sha256=3a138568d62c765fd976dd7604604a8ef7128f98215290d1fb025103fcd61091\n",
            "  Stored in directory: /root/.cache/pip/wheels/43/d6/79/8b249314e16883f491a6f36c49e414a8830e1706e667e71fda\n",
            "  Building wheel for scikit-surprise (setup.py) ... \u001b[?25l\u001b[?25hdone\n",
            "  Created wheel for scikit-surprise: filename=scikit_surprise-1.1.1-cp37-cp37m-linux_x86_64.whl size=1630184 sha256=911edbfb09bedaec04b55bfc4881710b478da9ea33e3b0d590482c6c911ec9b1\n",
            "  Stored in directory: /root/.cache/pip/wheels/76/44/74/b498c42be47b2406bd27994e16c5188e337c657025ab400c1c\n",
            "Successfully built PyYAML pyArango scikit-surprise\n",
            "Installing collected packages: zope.interface, setuptools-scm, requests-toolbelt, PyJWT, datetime, scikit-surprise, PyYAML, python-arango, pyArango\n",
            "  Attempting uninstall: PyYAML\n",
            "    Found existing installation: PyYAML 3.13\n",
            "    Uninstalling PyYAML-3.13:\n",
            "      Successfully uninstalled PyYAML-3.13\n",
            "Successfully installed PyJWT-2.3.0 PyYAML-5.2 datetime-4.4 pyArango-2.0.1 python-arango-7.0.1 requests-toolbelt-0.9.1 scikit-surprise-1.1.1 setuptools-scm-6.4.2 zope.interface-5.4.0\n"
          ]
        }
      ],
      "source": [
        "!pip install -i https://test.pypi.org/simple/ arangomlFeatureStore\n",
        "!pip install  pyArango python-arango PyYAML==5.2 numpy scikit-surprise"
      ]
    },
    {
      "cell_type": "markdown",
      "metadata": {
        "id": "QhyeWl_Oppyv"
      },
      "source": [
        "## Create a Dataset entity for the Recommender package (Surprise)"
      ]
    },
    {
      "cell_type": "code",
      "execution_count": 3,
      "metadata": {
        "colab": {
          "base_uri": "https://localhost:8080/"
        },
        "id": "Uylaoh1O4HDh",
        "outputId": "6d06e3ca-5feb-4f19-d9e0-85b8f7f47f55"
      },
      "outputs": [
        {
          "output_type": "stream",
          "name": "stdout",
          "text": [
            "Estimating biases using als...\n",
            "Estimating biases using als...\n",
            "Estimating biases using als...\n",
            "Estimating biases using als...\n",
            "Estimating biases using als...\n",
            "Evaluating RMSE, MAE of algorithm BaselineOnly on 5 split(s).\n",
            "\n",
            "                  Fold 1  Fold 2  Fold 3  Fold 4  Fold 5  Mean    Std     \n",
            "RMSE (testset)    0.9428  0.9406  0.9437  0.9410  0.9531  0.9442  0.0046  \n",
            "MAE (testset)     0.7480  0.7472  0.7493  0.7459  0.7531  0.7487  0.0025  \n",
            "Fit time          0.41    0.45    0.45    0.46    0.45    0.45    0.02    \n",
            "Test time         0.10    0.18    0.10    0.19    0.11    0.14    0.04    \n"
          ]
        },
        {
          "output_type": "execute_result",
          "data": {
            "text/plain": [
              "{'fit_time': (0.40720152854919434,\n",
              "  0.4526515007019043,\n",
              "  0.45453453063964844,\n",
              "  0.4598708152770996,\n",
              "  0.45254087448120117),\n",
              " 'test_mae': array([0.74798566, 0.74716782, 0.74932606, 0.74586924, 0.7530946 ]),\n",
              " 'test_rmse': array([0.94276898, 0.9405954 , 0.94365128, 0.94104506, 0.95313324]),\n",
              " 'test_time': (0.10293388366699219,\n",
              "  0.17961359024047852,\n",
              "  0.10064840316772461,\n",
              "  0.19076323509216309,\n",
              "  0.10516953468322754)}"
            ]
          },
          "metadata": {},
          "execution_count": 3
        }
      ],
      "source": [
        "import os\n",
        "from surprise import BaselineOnly\n",
        "from surprise import Dataset\n",
        "from surprise import Reader\n",
        "from surprise.model_selection import cross_validate\n",
        "\n",
        "# path to dataset file\n",
        "file_path = os.path.expanduser('/content/arangomlFeatureStore/data/ml-100k/u.data')\n",
        "\n",
        "# As we're loading a custom dataset, we need to define a reader. In the\n",
        "# movielens-100k dataset, each line has the following format:\n",
        "# 'user item rating timestamp', separated by '\\t' characters.\n",
        "reader = Reader(line_format='user item rating timestamp', sep='\\t')\n",
        "\n",
        "data = Dataset.load_from_file(file_path, reader=reader)\n",
        "\n",
        "# We can now use this dataset as we please, e.g. calling cross_validate\n",
        "cross_validate(BaselineOnly(), data, verbose=True)\n"
      ]
    },
    {
      "cell_type": "markdown",
      "metadata": {
        "id": "z66oTtOeppyw"
      },
      "source": [
        "## Add the arangomlFeatureStore to the Colab module search path"
      ]
    },
    {
      "cell_type": "code",
      "execution_count": 4,
      "metadata": {
        "colab": {
          "base_uri": "https://localhost:8080/"
        },
        "id": "As8ZlI8YJ-0H",
        "outputId": "e531450f-07a3-4793-d588-8fa46ad44460"
      },
      "outputs": [
        {
          "output_type": "stream",
          "name": "stdout",
          "text": [
            "Feature store at ['/usr/local/lib/python3.7/dist-packages/arangomlFeatureStore']\n"
          ]
        }
      ],
      "source": [
        "import arangomlFeatureStore as p\n",
        "import sys\n",
        "sys.path.append(p.__path__)\n",
        "print(f\"Feature store at {p.__path__}\")\n",
        "sys.path.insert(0, p.__path__)"
      ]
    },
    {
      "cell_type": "code",
      "execution_count": 5,
      "metadata": {
        "id": "-RDEKwABKU6x"
      },
      "outputs": [],
      "source": [
        "!chmod -R 777 /usr/local/lib/python3.7/dist-packages/arangomlFeatureStore\n"
      ]
    },
    {
      "cell_type": "markdown",
      "metadata": {
        "id": "KY1Vj91Zppyy"
      },
      "source": [
        "## Create the FeatureStore on Oasis"
      ]
    },
    {
      "cell_type": "code",
      "execution_count": 6,
      "metadata": {
        "id": "ZCjNBIyJKnU5"
      },
      "outputs": [],
      "source": [
        "from arangomlFeatureStore.feature_store_admin import FeatureStoreAdmin\n",
        "from arango.database import StandardDatabase"
      ]
    },
    {
      "cell_type": "code",
      "execution_count": 7,
      "metadata": {
        "id": "407a1S5oKquc"
      },
      "outputs": [],
      "source": [
        "fa = FeatureStoreAdmin()"
      ]
    },
    {
      "cell_type": "markdown",
      "metadata": {
        "id": "uvuKQqVuppyz"
      },
      "source": [
        "## Develop a NMF Recommender model with 5 factors"
      ]
    },
    {
      "cell_type": "code",
      "execution_count": 8,
      "metadata": {
        "colab": {
          "base_uri": "https://localhost:8080/"
        },
        "id": "qEYwaCLVLMpu",
        "outputId": "cf705c8a-bd93-424c-abf7-99a880c4410a"
      },
      "outputs": [
        {
          "output_type": "stream",
          "name": "stdout",
          "text": [
            "Evaluating RMSE, MAE of algorithm NMF on 5 split(s).\n",
            "\n",
            "                  Fold 1  Fold 2  Fold 3  Fold 4  Fold 5  Mean    Std     \n",
            "RMSE (testset)    1.0647  1.0659  1.0554  1.0585  1.0640  1.0617  0.0041  \n",
            "MAE (testset)     0.8786  0.8762  0.8660  0.8700  0.8752  0.8732  0.0046  \n",
            "Fit time          4.25    4.28    6.48    4.15    4.10    4.65    0.91    \n",
            "Test time         0.14    0.22    0.41    0.13    0.21    0.22    0.10    \n"
          ]
        },
        {
          "output_type": "execute_result",
          "data": {
            "text/plain": [
              "{'fit_time': (4.251261472702026,\n",
              "  4.276087045669556,\n",
              "  6.475595951080322,\n",
              "  4.153860569000244,\n",
              "  4.100719690322876),\n",
              " 'test_mae': array([0.8786172 , 0.87620586, 0.86600728, 0.86995216, 0.87515295]),\n",
              " 'test_rmse': array([1.06471003, 1.06593107, 1.05535377, 1.05850428, 1.06403628]),\n",
              " 'test_time': (0.1383523941040039,\n",
              "  0.21628379821777344,\n",
              "  0.4054992198944092,\n",
              "  0.1268014907836914,\n",
              "  0.2091057300567627)}"
            ]
          },
          "metadata": {},
          "execution_count": 8
        }
      ],
      "source": [
        "from surprise import NMF\n",
        "from surprise import Dataset\n",
        "from surprise.model_selection import cross_validate\n",
        "\n",
        "\n",
        "# Use the NMF algorithm.\n",
        "algo = NMF(n_factors=5)\n",
        "\n",
        "# Run 5-fold cross-validation and print results.\n",
        "cross_validate(algo, data, measures=['RMSE', 'MAE'], cv=5, verbose=True)"
      ]
    },
    {
      "cell_type": "markdown",
      "metadata": {
        "id": "I52u-Vksppyz"
      },
      "source": [
        "## Create User Entity\n",
        "Users are represented by the their id and rating history"
      ]
    },
    {
      "cell_type": "code",
      "execution_count": 9,
      "metadata": {
        "id": "J7lr__Q2LQO6"
      },
      "outputs": [],
      "source": [
        "um_ratings = {}\n",
        "for uid, iid, rating, timestamp in data.raw_ratings:\n",
        "  if uid in um_ratings:\n",
        "    um_ratings[uid][iid] = rating\n",
        "  else:\n",
        "    um_ratings[uid] = {}"
      ]
    },
    {
      "cell_type": "markdown",
      "metadata": {
        "id": "kYaka1vKppy0"
      },
      "source": [
        "## Trained Model has embeddings for User and Item"
      ]
    },
    {
      "cell_type": "code",
      "execution_count": 10,
      "metadata": {
        "id": "P-y-qh78MUi2"
      },
      "outputs": [],
      "source": [
        "from surprise.model_selection import train_test_split\n",
        "#data = Dataset.load_builtin('ml-100k')\n",
        "\n",
        "# sample random trainset and testset\n",
        "# test set is made of 25% of the ratings.\n",
        "trainset, testset = train_test_split(data, test_size=.25)\n",
        "\n",
        "# We'll use the famous SVD algorithm.\n",
        "algo = NMF(n_factors=5)\n",
        "\n",
        "# Train the algorithm on the trainset, and predict ratings for the testset\n",
        "algo.fit(trainset)\n",
        "predictions = algo.test(testset)"
      ]
    },
    {
      "cell_type": "markdown",
      "metadata": {
        "id": "IuV0i2ZAppy0"
      },
      "source": [
        "## The feature store interface has the functionality to write embeddings to the feature store"
      ]
    },
    {
      "cell_type": "code",
      "execution_count": 11,
      "metadata": {
        "id": "9DzN87l4MkwU"
      },
      "outputs": [],
      "source": [
        "db = fa.db\n",
        "fs = fa.get_feature_store()"
      ]
    },
    {
      "cell_type": "markdown",
      "metadata": {
        "id": "FtqVV7gippy1"
      },
      "source": [
        "## Write user, item, user embeddings and item embeddings to the feature store\n",
        "__NOTE: THE embeddings for the user and item for this data are tagged with the label NMF-user-embeddings and NMF-item-embeddings. These tags will be used by consumer applications to retrieve the user and item embeddings.__"
      ]
    },
    {
      "cell_type": "code",
      "execution_count": 12,
      "metadata": {
        "id": "q4Lk4tNtMZx1"
      },
      "outputs": [],
      "source": [
        "# ENTITY_COLL = cfg['arangodb']['entity_col']\n",
        "import json\n",
        "user_list = list()\n",
        "user_emb_list = list()\n",
        "user_emb_assoc_list = list()\n",
        "for id in trainset.all_users():\n",
        "  ruid = trainset.to_raw_uid(id)\n",
        "  ratings_for_ruid = um_ratings[ruid] \n",
        "  user_data = {'_key': 'user-' + str(ruid), 'ratings': ratings_for_ruid}\n",
        "  user_list.append(user_data)\n",
        "  #user_info = fs.add_entity(user_data)\n",
        "  user_embedding = json.dumps(algo.pu[id].tolist())\n",
        "  value_data = {'_key': 'user-' + str(ruid), 'embedding': user_embedding}\n",
        "  user_emb_list.append(value_data)\n",
        "  #emb_info = fs.add_value(value_data)\n",
        "  edoc = {'_from': user_data['_key'],'_to': value_data['_key'], 'tag': 'NMF-user-embeddings'}\n",
        "  user_emb_assoc_list.append(edoc)\n",
        "  #edge_info = fs.link_entity_feature_value(edoc)\n",
        "  #print(f\"iid: {id}, embedding: {algo.pu[id]}\")"
      ]
    },
    {
      "cell_type": "code",
      "source": [
        "fs.add_entity_bulk(user_list)\n",
        "fs.add_value_bulk(user_emb_list)\n",
        "fs.link_entity_feature_value_bulk(user_emb_assoc_list)"
      ],
      "metadata": {
        "id": "jZ5ypF9Ep2xu"
      },
      "execution_count": 13,
      "outputs": []
    },
    {
      "cell_type": "code",
      "execution_count": 14,
      "metadata": {
        "id": "WKK_V77DOcqi"
      },
      "outputs": [],
      "source": [
        "item_list = list()\n",
        "item_emb_list = list()\n",
        "item_emb_assoc_list = list()\n",
        "for id in trainset.all_items():\n",
        "  riid = trainset.to_raw_iid(id) \n",
        "  item_data = {'_key': 'item-'+str(riid), 'type': 'item' }\n",
        "  item_list.append(item_data)\n",
        "  #item_info = fs.add_entity(item_data)\n",
        "  item_embedding = json.dumps(algo.qi[id].tolist())\n",
        "  value_data = {'_key': 'item-'+str(riid), 'embedding': item_embedding}\n",
        "  item_emb_list.append(value_data)\n",
        "  #emb_info = fs.add_value(value_data)\n",
        "  edoc = {'_from': item_data['_key'],'_to': value_data['_key'], 'tag': 'NMF-item-embeddings'}\n",
        "  #edge_info = fs.link_entity_feature_value(edoc)\n",
        "  item_emb_assoc_list.append(edoc)"
      ]
    },
    {
      "cell_type": "code",
      "source": [
        "fs.add_entity_bulk(item_list)\n",
        "fs.add_value_bulk(item_emb_list)\n",
        "fs.link_entity_feature_value_bulk(item_emb_assoc_list)"
      ],
      "metadata": {
        "id": "vfMIcvDWp9_X"
      },
      "execution_count": 15,
      "outputs": []
    },
    {
      "cell_type": "code",
      "execution_count": 16,
      "metadata": {
        "id": "CtFf-zoj98Ii"
      },
      "outputs": [],
      "source": [
        "fa2 = FeatureStoreAdmin(conn_config=fa.cfg['arangodb'])"
      ]
    },
    {
      "cell_type": "code",
      "execution_count": 17,
      "metadata": {
        "colab": {
          "base_uri": "https://localhost:8080/"
        },
        "id": "_TyCtu9e-GCT",
        "outputId": "b81cb062-0d5b-4f8e-a76c-909040936905"
      },
      "outputs": [
        {
          "output_type": "execute_result",
          "data": {
            "text/plain": [
              "True"
            ]
          },
          "metadata": {},
          "execution_count": 17
        }
      ],
      "source": [
        "fa.db_name == fa2.db_name"
      ]
    },
    {
      "cell_type": "markdown",
      "metadata": {
        "id": "-pDyHsr5ppy2"
      },
      "source": [
        "## Connection information for the feature store can be obtained as shown below\n",
        "Note: The consumer applications would use the connection information obtained from executing the code segment below to connect to the feature store that has the embeddings stored."
      ]
    },
    {
      "cell_type": "code",
      "execution_count": 18,
      "metadata": {
        "colab": {
          "base_uri": "https://localhost:8080/"
        },
        "id": "KI5dFu_7FqMN",
        "outputId": "aaa727d1-5f3a-4505-a6c0-7be26610d4e6"
      },
      "outputs": [
        {
          "output_type": "execute_result",
          "data": {
            "text/plain": [
              "{'dbName': 'TUThyeakkvs3t80rlwqg9tnipi',\n",
              " 'edge_col': 'entity-feature-value',\n",
              " 'entity_col': 'entity',\n",
              " 'feature_value_col': 'feature-value',\n",
              " 'graph_name': 'feature_store_graph',\n",
              " 'hostname': 'tutorials.arangodb.cloud',\n",
              " 'password': 'TUTiupac2s53i2kmnfuo5foq',\n",
              " 'port': 8529,\n",
              " 'protocol': 'https',\n",
              " 'replication_factor': 3,\n",
              " 'username': 'TUTfprz11d3r4omnmbrvidia'}"
            ]
          },
          "metadata": {},
          "execution_count": 18
        }
      ],
      "source": [
        "fa.cfg['arangodb']"
      ]
    }
  ],
  "metadata": {
    "colab": {
      "collapsed_sections": [],
      "name": "feature_store_producer_DS.ipynb",
      "provenance": []
    },
    "kernelspec": {
      "display_name": "Python 3",
      "language": "python",
      "name": "python3"
    },
    "language_info": {
      "codemirror_mode": {
        "name": "ipython",
        "version": 3
      },
      "file_extension": ".py",
      "mimetype": "text/x-python",
      "name": "python",
      "nbconvert_exporter": "python",
      "pygments_lexer": "ipython3",
      "version": "3.7.6"
    }
  },
  "nbformat": 4,
  "nbformat_minor": 0
}