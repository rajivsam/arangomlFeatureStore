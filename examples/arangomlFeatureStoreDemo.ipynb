{
  "nbformat": 4,
  "nbformat_minor": 0,
  "metadata": {
    "colab": {
      "name": "arangomlFeatureStoreDemo.ipynb",
      "provenance": [],
      "collapsed_sections": []
    },
    "kernelspec": {
      "name": "python3",
      "display_name": "Python 3"
    },
    "language_info": {
      "name": "python"
    }
  },
  "cells": [
    {
      "cell_type": "markdown",
      "source": [
        "# Install Pre-requisites"
      ],
      "metadata": {
        "id": "fApFJCUDxsoK"
      }
    },
    {
      "cell_type": "code",
      "execution_count": 2,
      "metadata": {
        "colab": {
          "base_uri": "https://localhost:8080/"
        },
        "id": "P3Ga2ZRr6uG4",
        "outputId": "9acf4f6d-2518-4ef6-d7c5-a99d6d418a36"
      },
      "outputs": [
        {
          "output_type": "stream",
          "name": "stdout",
          "text": [
            "Looking in indexes: https://test.pypi.org/simple/\n",
            "Collecting arangomlFeatureStore\n",
            "  Downloading https://test-files.pythonhosted.org/packages/b7/53/a5d26fdc561e704f779d46f659beb6144518477ed7cfca2a8ed503c3afd6/arangomlFeatureStore-0.0.7.2-py3-none-any.whl (7.5 kB)\n",
            "Installing collected packages: arangomlFeatureStore\n",
            "Successfully installed arangomlFeatureStore-0.0.7.2\n",
            "Collecting pyArango\n",
            "  Downloading pyArango-2.0.1.tar.gz (50 kB)\n",
            "\u001b[K     |████████████████████████████████| 50 kB 3.0 MB/s \n",
            "\u001b[?25hCollecting python-arango\n",
            "  Downloading python_arango-7.3.0-py3-none-any.whl (95 kB)\n",
            "\u001b[K     |████████████████████████████████| 95 kB 3.2 MB/s \n",
            "\u001b[?25hCollecting PyYAML==5.2\n",
            "  Downloading PyYAML-5.2.tar.gz (265 kB)\n",
            "\u001b[K     |████████████████████████████████| 265 kB 45.9 MB/s \n",
            "\u001b[?25hRequirement already satisfied: requests>=2.7.0 in /usr/local/lib/python3.7/dist-packages (from pyArango) (2.23.0)\n",
            "Requirement already satisfied: future in /usr/local/lib/python3.7/dist-packages (from pyArango) (0.16.0)\n",
            "Collecting datetime\n",
            "  Downloading DateTime-4.3-py2.py3-none-any.whl (60 kB)\n",
            "\u001b[K     |████████████████████████████████| 60 kB 6.6 MB/s \n",
            "\u001b[?25hRequirement already satisfied: urllib3!=1.25.0,!=1.25.1,<1.26,>=1.21.1 in /usr/local/lib/python3.7/dist-packages (from requests>=2.7.0->pyArango) (1.24.3)\n",
            "Requirement already satisfied: chardet<4,>=3.0.2 in /usr/local/lib/python3.7/dist-packages (from requests>=2.7.0->pyArango) (3.0.4)\n",
            "Requirement already satisfied: idna<3,>=2.5 in /usr/local/lib/python3.7/dist-packages (from requests>=2.7.0->pyArango) (2.10)\n",
            "Requirement already satisfied: certifi>=2017.4.17 in /usr/local/lib/python3.7/dist-packages (from requests>=2.7.0->pyArango) (2021.10.8)\n",
            "Requirement already satisfied: setuptools>=42 in /usr/local/lib/python3.7/dist-packages (from python-arango) (57.4.0)\n",
            "Collecting PyJWT\n",
            "  Downloading PyJWT-2.3.0-py3-none-any.whl (16 kB)\n",
            "Collecting python-arango\n",
            "  Downloading python_arango-7.2.0-py3-none-any.whl (94 kB)\n",
            "\u001b[K     |████████████████████████████████| 94 kB 3.4 MB/s \n",
            "\u001b[?25h  Downloading python_arango-7.1.0-py3-none-any.whl (94 kB)\n",
            "\u001b[K     |████████████████████████████████| 94 kB 3.2 MB/s \n",
            "\u001b[?25h  Downloading python_arango-7.0.1-py3-none-any.whl (94 kB)\n",
            "\u001b[K     |████████████████████████████████| 94 kB 3.0 MB/s \n",
            "\u001b[?25hCollecting setuptools-scm[toml]>=3.4\n",
            "  Downloading setuptools_scm-6.4.2-py3-none-any.whl (37 kB)\n",
            "Collecting requests-toolbelt\n",
            "  Downloading requests_toolbelt-0.9.1-py2.py3-none-any.whl (54 kB)\n",
            "\u001b[K     |████████████████████████████████| 54 kB 2.6 MB/s \n",
            "\u001b[?25hRequirement already satisfied: tomli>=1.0.0 in /usr/local/lib/python3.7/dist-packages (from setuptools-scm[toml]>=3.4->python-arango) (2.0.0)\n",
            "Requirement already satisfied: packaging>=20.0 in /usr/local/lib/python3.7/dist-packages (from setuptools-scm[toml]>=3.4->python-arango) (21.3)\n",
            "Requirement already satisfied: pyparsing!=3.0.5,>=2.0.2 in /usr/local/lib/python3.7/dist-packages (from packaging>=20.0->setuptools-scm[toml]>=3.4->python-arango) (3.0.7)\n",
            "Collecting zope.interface\n",
            "  Downloading zope.interface-5.4.0-cp37-cp37m-manylinux2010_x86_64.whl (251 kB)\n",
            "\u001b[K     |████████████████████████████████| 251 kB 55.9 MB/s \n",
            "\u001b[?25hRequirement already satisfied: pytz in /usr/local/lib/python3.7/dist-packages (from datetime->pyArango) (2018.9)\n",
            "Building wheels for collected packages: PyYAML, pyArango\n",
            "  Building wheel for PyYAML (setup.py) ... \u001b[?25l\u001b[?25hdone\n",
            "  Created wheel for PyYAML: filename=PyYAML-5.2-cp37-cp37m-linux_x86_64.whl size=44225 sha256=f195cb75e8738a8b11c87bca053bbe834ab1c26af90635dc6178d14667b7705a\n",
            "  Stored in directory: /root/.cache/pip/wheels/c5/67/65/80b02387630c3794fc9bab68ca0de3dd87d639d65936026527\n",
            "  Building wheel for pyArango (setup.py) ... \u001b[?25l\u001b[?25hdone\n",
            "  Created wheel for pyArango: filename=pyArango-2.0.1-py2.py3-none-any.whl size=52259 sha256=5229991a73c0984edb51f9e9af67471e084239d80240ceca0ab4b43b044a66fe\n",
            "  Stored in directory: /root/.cache/pip/wheels/43/d6/79/8b249314e16883f491a6f36c49e414a8830e1706e667e71fda\n",
            "Successfully built PyYAML pyArango\n",
            "Installing collected packages: zope.interface, setuptools-scm, requests-toolbelt, PyJWT, datetime, PyYAML, python-arango, pyArango\n",
            "  Attempting uninstall: PyYAML\n",
            "    Found existing installation: PyYAML 3.13\n",
            "    Uninstalling PyYAML-3.13:\n",
            "      Successfully uninstalled PyYAML-3.13\n",
            "Successfully installed PyJWT-2.3.0 PyYAML-5.2 datetime-4.3 pyArango-2.0.1 python-arango-7.0.1 requests-toolbelt-0.9.1 setuptools-scm-6.4.2 zope.interface-5.4.0\n"
          ]
        }
      ],
      "source": [
        "!pip install -i https://test.pypi.org/simple/ arangomlFeatureStore\n",
        "!pip install  pyArango python-arango PyYAML==5.2"
      ]
    },
    {
      "cell_type": "markdown",
      "source": [
        "# Add Package Path to Search Path "
      ],
      "metadata": {
        "id": "y8xixW0YxyYf"
      }
    },
    {
      "cell_type": "code",
      "source": [
        "import arangomlFeatureStore as p\n",
        "print(p.__path__)"
      ],
      "metadata": {
        "colab": {
          "base_uri": "https://localhost:8080/"
        },
        "id": "cBkVD23JzYsD",
        "outputId": "7ca38d0a-4589-4102-c9cf-6154788bc229"
      },
      "execution_count": 3,
      "outputs": [
        {
          "output_type": "stream",
          "name": "stdout",
          "text": [
            "['/usr/local/lib/python3.7/dist-packages/arangomlFeatureStore']\n"
          ]
        }
      ]
    },
    {
      "cell_type": "code",
      "source": [
        "import sys\n",
        "sys.path.append(p.__path__)"
      ],
      "metadata": {
        "id": "lkimF2oaz_DG"
      },
      "execution_count": 4,
      "outputs": []
    },
    {
      "cell_type": "code",
      "source": [
        "!chmod -R 777 /usr/local/lib/python3.7/dist-packages/arangomlFeatureStore"
      ],
      "metadata": {
        "id": "y_RK4aHt0Qxe"
      },
      "execution_count": 5,
      "outputs": []
    },
    {
      "cell_type": "code",
      "source": [
        "!chmod -R 777 /usr/local/lib/python3.7/dist-packages/arangomlFeatureStore"
      ],
      "metadata": {
        "id": "MxPgqfGqc66v"
      },
      "execution_count": 9,
      "outputs": []
    },
    {
      "cell_type": "code",
      "source": [
        "import sys\n",
        "sys.path.insert(0, \"/usr/local/lib/python3.7/dist-packages/arangomlFeatureStore\")"
      ],
      "metadata": {
        "id": "Iyw4QGpxgBmL"
      },
      "execution_count": 10,
      "outputs": []
    },
    {
      "cell_type": "markdown",
      "source": [
        "# Interaction\n",
        "\n",
        "\n",
        "1.   Producer applications:\n",
        "Register/add entities with the feature store\n",
        "Create embeddings for them\n",
        "Associate entities with feature values. The association is identified by a tag\n",
        "2. Consumer applications:\n",
        "  Can search for a set of features that match a tag property\n",
        "  Can lookup/search for an entity by property\n",
        "\n",
        "\n",
        "Usage scenario:\n",
        "Producer applications create embeddings and store them in the feature store. Consumer applications consume embeddings by specifying a featureset tag."
      ],
      "metadata": {
        "id": "OiMPevEPx_Ay"
      }
    },
    {
      "cell_type": "markdown",
      "source": [
        "## Connect to Oasis and get a Database"
      ],
      "metadata": {
        "id": "0WwyNt8AzWsv"
      }
    },
    {
      "cell_type": "code",
      "source": [
        "from arangomlFeatureStore.feature_store_admin import FeatureStoreAdmin\n",
        "from arango.database import StandardDatabase"
      ],
      "metadata": {
        "id": "Z78U7LmXffTS"
      },
      "execution_count": 6,
      "outputs": []
    },
    {
      "cell_type": "code",
      "source": [
        "fa = FeatureStoreAdmin()"
      ],
      "metadata": {
        "colab": {
          "base_uri": "https://localhost:8080/"
        },
        "id": "PhaXKc91YTTk",
        "outputId": "83d60174-fb51-412a-e8c6-8fb4fd4e9a55"
      },
      "execution_count": 7,
      "outputs": [
        {
          "output_type": "stream",
          "name": "stdout",
          "text": [
            "Credentials expired.\n",
            "Requesting new temp credentials.\n",
            "Temp database ready to use.\n"
          ]
        }
      ]
    },
    {
      "cell_type": "code",
      "source": [
        "fa = FeatureStoreAdmin()\n",
        "db = fa.db"
      ],
      "metadata": {
        "colab": {
          "base_uri": "https://localhost:8080/"
        },
        "id": "6U5bvhGVfeUP",
        "outputId": "2efea9e9-82ec-45cc-d688-3bb57ea6d707"
      },
      "execution_count": 11,
      "outputs": [
        {
          "output_type": "stream",
          "name": "stdout",
          "text": [
            "Requesting new temp credentials.\n",
            "Temp database ready to use.\n"
          ]
        }
      ]
    },
    {
      "cell_type": "code",
      "source": [
        "import uuid"
      ],
      "metadata": {
        "id": "IhOYizxK5iF_"
      },
      "execution_count": 12,
      "outputs": []
    },
    {
      "cell_type": "markdown",
      "source": [
        "## Add an Entity"
      ],
      "metadata": {
        "id": "Dp03ah-9zGNU"
      }
    },
    {
      "cell_type": "code",
      "source": [
        "fs = fa.get_feature_store()\n",
        "rk = str(uuid.uuid4())\n",
        "test_entity = {'_key': 'test_entity' + rk , 'attribute': 'some value'}\n",
        "entity_info = fs.add_entity(test_entity)\n",
        "cfg = fa.cfg\n",
        "ENTITY_COLL = cfg['arangodb']['entity_col']\n",
        "assert entity_info['_id'] == ENTITY_COLL + '/' + ('test_entity' + rk)\n",
        "assert entity_info['_key'] == ('test_entity' + rk)\n"
      ],
      "metadata": {
        "id": "KzX5JSF14IDr"
      },
      "execution_count": 13,
      "outputs": []
    },
    {
      "cell_type": "markdown",
      "source": [
        "## Add a Feature Value"
      ],
      "metadata": {
        "id": "NNCVM5IPzbhZ"
      }
    },
    {
      "cell_type": "code",
      "source": [
        "rk2 = str(uuid.uuid4())\n",
        "test_value = {'_key': 'test_value' + rk2, 'attribute': [0.1234, 0.1234, 0.1234]}\n",
        "value_info = fs.add_value(test_value)\n",
        "cfg = fa.cfg\n",
        "FEATURE_VAL_COLL = cfg['arangodb']['feature_value_col']\n",
        "assert value_info['_id'] == FEATURE_VAL_COLL + '/' + ('test_value' + rk2)\n",
        "assert value_info['_key'] == ('test_value' + rk2)"
      ],
      "metadata": {
        "id": "G0rEXS4P4pJ5"
      },
      "execution_count": 14,
      "outputs": []
    },
    {
      "cell_type": "markdown",
      "source": [
        "## Associate a Feature Value with an Entity\n",
        "**Note**: Note the tag attribute specified"
      ],
      "metadata": {
        "id": "eu0mwNB5zfKN"
      }
    },
    {
      "cell_type": "code",
      "source": [
        "edoc = {'_from': entity_info['_key'],'_to': value_info['_key'], 'tag': 'model-xyz'}\n",
        "edge_info = fs.link_entity_feature_value(edoc)\n",
        "EDGE_COLL = cfg['arangodb']['edge_col']\n",
        "# edge_id = EDGE_COLL + '/' + edge_info['_key'] + '-' + value_info['_key']\n",
        "# assert edge_info['_id'] == edge_id\n"
      ],
      "metadata": {
        "id": "dFwjtz0W42rg"
      },
      "execution_count": 15,
      "outputs": []
    },
    {
      "cell_type": "markdown",
      "source": [
        "## Lookup/Search for an Entity by Tag"
      ],
      "metadata": {
        "id": "VTmHGD8zzsTH"
      }
    },
    {
      "cell_type": "code",
      "source": [
        "fs.find_entity(attrib_name='_key', attrib_value= \"test_entity\" + rk)"
      ],
      "metadata": {
        "id": "C1TpC6kK7PAu",
        "colab": {
          "base_uri": "https://localhost:8080/"
        },
        "outputId": "b5bf2f23-51f9-4f9c-f0c3-8b72589df154"
      },
      "execution_count": 16,
      "outputs": [
        {
          "output_type": "execute_result",
          "data": {
            "text/plain": [
              "[{'_id': 'entity/test_entityf30fa925-f881-4faf-8daf-4c2e27099dd6',\n",
              "  '_key': 'test_entityf30fa925-f881-4faf-8daf-4c2e27099dd6',\n",
              "  '_rev': '_dn82Nti---',\n",
              "  'attribute': 'some value'}]"
            ]
          },
          "metadata": {},
          "execution_count": 16
        }
      ]
    },
    {
      "cell_type": "markdown",
      "source": [
        "## Add a Dataset with a Tag attribute to the Feature Store"
      ],
      "metadata": {
        "id": "uN_LOTWuzxeL"
      }
    },
    {
      "cell_type": "code",
      "source": [
        "DATASET_SIZE = 10\n",
        "EDGE_COLL = cfg['arangodb']['edge_col']\n",
        "for i in range(DATASET_SIZE):\n",
        "  rkd = str(uuid.uuid4())\n",
        "  test_entity_ds = {'_key': 'test_entity' + rkd , 'attribute': 'some value'}\n",
        "  entity_info_ds = fs.add_entity(test_entity_ds)\n",
        "  rkd2 = str(uuid.uuid4())\n",
        "  test_value_ds = {'_key': 'test_value' + rkd2, 'attribute': [0.1234, 0.1234, 0.1234]}\n",
        "  value_info_ds = fs.add_value(test_value_ds)\n",
        "  edoc_ds = {'_from': entity_info_ds['_key'],'_to': value_info_ds['_key'], 'tag': 'model-xyz'}\n",
        "  edge_info_ds = fs.link_entity_feature_value(edoc_ds)\n",
        "  print(f\"Added doc # {(i+1)} to feature store with tag: model-xyz\")\n",
        "\n"
      ],
      "metadata": {
        "colab": {
          "base_uri": "https://localhost:8080/"
        },
        "id": "OaKWZgnPrAOE",
        "outputId": "83db619d-02ac-4481-f934-fa1f29877afe"
      },
      "execution_count": 17,
      "outputs": [
        {
          "output_type": "stream",
          "name": "stdout",
          "text": [
            "Added doc # 1 to feature store with tag: model-xyz\n",
            "Added doc # 2 to feature store with tag: model-xyz\n",
            "Added doc # 3 to feature store with tag: model-xyz\n",
            "Added doc # 4 to feature store with tag: model-xyz\n",
            "Added doc # 5 to feature store with tag: model-xyz\n",
            "Added doc # 6 to feature store with tag: model-xyz\n",
            "Added doc # 7 to feature store with tag: model-xyz\n",
            "Added doc # 8 to feature store with tag: model-xyz\n",
            "Added doc # 9 to feature store with tag: model-xyz\n",
            "Added doc # 10 to feature store with tag: model-xyz\n"
          ]
        }
      ]
    },
    {
      "cell_type": "markdown",
      "source": [
        "## Retrieve a FeatureSet with a specified Tag Property Value"
      ],
      "metadata": {
        "id": "9aMNW_9rz4kS"
      }
    },
    {
      "cell_type": "code",
      "source": [
        "fs.get_featureset_with_tag('tag', 'model-xyz')"
      ],
      "metadata": {
        "colab": {
          "base_uri": "https://localhost:8080/"
        },
        "id": "Q7JM-cPEsvR-",
        "outputId": "7af70353-f513-4533-c737-a8b4ab86731a"
      },
      "execution_count": 18,
      "outputs": [
        {
          "output_type": "execute_result",
          "data": {
            "text/plain": [
              "[{'_id': 'feature-value/test_value86d54909-3c2b-487b-91a8-fde70a26630f',\n",
              "  '_key': 'test_value86d54909-3c2b-487b-91a8-fde70a26630f',\n",
              "  '_rev': '_dn82Oe6---',\n",
              "  'attribute': [0.1234, 0.1234, 0.1234]},\n",
              " {'_id': 'feature-value/test_value95221985-0413-468e-bc21-793c3565d81b',\n",
              "  '_key': 'test_value95221985-0413-468e-bc21-793c3565d81b',\n",
              "  '_rev': '_dn82PB---_',\n",
              "  'attribute': [0.1234, 0.1234, 0.1234]},\n",
              " {'_id': 'feature-value/test_valuecaa5447e-3f34-4421-86a1-b7649bcbba76',\n",
              "  '_key': 'test_valuecaa5447e-3f34-4421-86a1-b7649bcbba76',\n",
              "  '_rev': '_dn82PNu--A',\n",
              "  'attribute': [0.1234, 0.1234, 0.1234]},\n",
              " {'_id': 'feature-value/test_value95b2cd9a-4c6e-43b4-b431-b29611a3a43e',\n",
              "  '_key': 'test_value95b2cd9a-4c6e-43b4-b431-b29611a3a43e',\n",
              "  '_rev': '_dn82Pam--_',\n",
              "  'attribute': [0.1234, 0.1234, 0.1234]},\n",
              " {'_id': 'feature-value/test_value6811966f-1429-42af-a2cf-e10859835426',\n",
              "  '_key': 'test_value6811966f-1429-42af-a2cf-e10859835426',\n",
              "  '_rev': '_dn82Pp2--_',\n",
              "  'attribute': [0.1234, 0.1234, 0.1234]},\n",
              " {'_id': 'feature-value/test_value25924bba-cfd5-4158-b10b-14d638c1d390',\n",
              "  '_key': 'test_value25924bba-cfd5-4158-b10b-14d638c1d390',\n",
              "  '_rev': '_dn82P3y---',\n",
              "  'attribute': [0.1234, 0.1234, 0.1234]},\n",
              " {'_id': 'feature-value/test_valuec0dbad52-ae05-42b0-939d-fe4297cd3b91',\n",
              "  '_key': 'test_valuec0dbad52-ae05-42b0-939d-fe4297cd3b91',\n",
              "  '_rev': '_dn82QEi--_',\n",
              "  'attribute': [0.1234, 0.1234, 0.1234]},\n",
              " {'_id': 'feature-value/test_valueeaa3c14e-64dd-48aa-95ea-10d18059d08e',\n",
              "  '_key': 'test_valueeaa3c14e-64dd-48aa-95ea-10d18059d08e',\n",
              "  '_rev': '_dn82QRe--_',\n",
              "  'attribute': [0.1234, 0.1234, 0.1234]},\n",
              " {'_id': 'feature-value/test_value7c908388-a187-4e3a-8776-2de24cedbd2c',\n",
              "  '_key': 'test_value7c908388-a187-4e3a-8776-2de24cedbd2c',\n",
              "  '_rev': '_dn82QeS--A',\n",
              "  'attribute': [0.1234, 0.1234, 0.1234]},\n",
              " {'_id': 'feature-value/test_valueda798a4d-2c8e-4bbd-a057-85d03a61a2bf',\n",
              "  '_key': 'test_valueda798a4d-2c8e-4bbd-a057-85d03a61a2bf',\n",
              "  '_rev': '_dn82QrC--_',\n",
              "  'attribute': [0.1234, 0.1234, 0.1234]},\n",
              " {'_id': 'feature-value/test_valueaefeaaa8-53dc-4f8c-b5cb-c6d4e7a28353',\n",
              "  '_key': 'test_valueaefeaaa8-53dc-4f8c-b5cb-c6d4e7a28353',\n",
              "  '_rev': '_dn82Q32--_',\n",
              "  'attribute': [0.1234, 0.1234, 0.1234]}]"
            ]
          },
          "metadata": {},
          "execution_count": 18
        }
      ]
    }
  ]
}