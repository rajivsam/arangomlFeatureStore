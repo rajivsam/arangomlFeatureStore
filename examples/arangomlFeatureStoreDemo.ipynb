{
 "cells": [
  {
   "cell_type": "markdown",
   "metadata": {
    "id": "fApFJCUDxsoK"
   },
   "source": [
    "# Install Pre-requisites"
   ]
  },
  {
   "cell_type": "markdown",
   "metadata": {},
   "source": [
    "<a href=\"https://colab.research.google.com/https://github.com/rajivsam/arangomlFeatureStore/blob/master/examples/arangomlFeatureStoreDemo.ipynb\">\n",
    "  <img src=\"https://colab.research.google.com/assets/colab-badge.svg\" alt=\"Open In Colab\"/>\n",
    "</a>"
   ]
  },
  {
   "cell_type": "code",
   "execution_count": null,
   "metadata": {
    "colab": {
     "base_uri": "https://localhost:8080/"
    },
    "id": "P3Ga2ZRr6uG4",
    "outputId": "9acf4f6d-2518-4ef6-d7c5-a99d6d418a36"
   },
   "outputs": [],
   "source": [
    "!pip install -i https://test.pypi.org/simple/ arangomlFeatureStore\n",
    "!pip install  pyArango python-arango PyYAML==5.2"
   ]
  },
  {
   "cell_type": "markdown",
   "metadata": {
    "id": "y8xixW0YxyYf"
   },
   "source": [
    "# Add Package Path to Search Path "
   ]
  },
  {
   "cell_type": "code",
   "execution_count": null,
   "metadata": {
    "colab": {
     "base_uri": "https://localhost:8080/"
    },
    "id": "cBkVD23JzYsD",
    "outputId": "7ca38d0a-4589-4102-c9cf-6154788bc229"
   },
   "outputs": [],
   "source": [
    "import arangomlFeatureStore as p\n",
    "print(p.__path__)"
   ]
  },
  {
   "cell_type": "code",
   "execution_count": null,
   "metadata": {
    "id": "lkimF2oaz_DG"
   },
   "outputs": [],
   "source": [
    "import sys\n",
    "sys.path.append(p.__path__)"
   ]
  },
  {
   "cell_type": "code",
   "execution_count": null,
   "metadata": {
    "id": "y_RK4aHt0Qxe"
   },
   "outputs": [],
   "source": [
    "!chmod -R 777 /usr/local/lib/python3.7/dist-packages/arangomlFeatureStore"
   ]
  },
  {
   "cell_type": "code",
   "execution_count": null,
   "metadata": {
    "id": "MxPgqfGqc66v"
   },
   "outputs": [],
   "source": [
    "!chmod -R 777 /usr/local/lib/python3.7/dist-packages/arangomlFeatureStore"
   ]
  },
  {
   "cell_type": "code",
   "execution_count": null,
   "metadata": {
    "id": "Iyw4QGpxgBmL"
   },
   "outputs": [],
   "source": [
    "import sys\n",
    "sys.path.insert(0, \"/usr/local/lib/python3.7/dist-packages/arangomlFeatureStore\")"
   ]
  },
  {
   "cell_type": "markdown",
   "metadata": {
    "id": "OiMPevEPx_Ay"
   },
   "source": [
    "# Interaction\n",
    "\n",
    "\n",
    "1.   Producer applications:\n",
    "Register/add entities with the feature store\n",
    "Create embeddings for them\n",
    "Associate entities with feature values. The association is identified by a tag\n",
    "2. Consumer applications:\n",
    "  Can search for a set of features that match a tag property\n",
    "  Can lookup/search for an entity by property\n",
    "\n",
    "\n",
    "Usage scenario:\n",
    "Producer applications create embeddings and store them in the feature store. Consumer applications consume embeddings by specifying a featureset tag."
   ]
  },
  {
   "cell_type": "markdown",
   "metadata": {
    "id": "0WwyNt8AzWsv"
   },
   "source": [
    "## Connect to Oasis and get a Database"
   ]
  },
  {
   "cell_type": "code",
   "execution_count": null,
   "metadata": {
    "id": "Z78U7LmXffTS"
   },
   "outputs": [],
   "source": [
    "from arangomlFeatureStore.feature_store_admin import FeatureStoreAdmin\n",
    "from arango.database import StandardDatabase"
   ]
  },
  {
   "cell_type": "code",
   "execution_count": null,
   "metadata": {
    "colab": {
     "base_uri": "https://localhost:8080/"
    },
    "id": "PhaXKc91YTTk",
    "outputId": "83d60174-fb51-412a-e8c6-8fb4fd4e9a55"
   },
   "outputs": [],
   "source": [
    "fa = FeatureStoreAdmin()"
   ]
  },
  {
   "cell_type": "code",
   "execution_count": null,
   "metadata": {
    "colab": {
     "base_uri": "https://localhost:8080/"
    },
    "id": "6U5bvhGVfeUP",
    "outputId": "2efea9e9-82ec-45cc-d688-3bb57ea6d707"
   },
   "outputs": [],
   "source": [
    "fa = FeatureStoreAdmin()\n",
    "db = fa.db"
   ]
  },
  {
   "cell_type": "code",
   "execution_count": null,
   "metadata": {
    "id": "IhOYizxK5iF_"
   },
   "outputs": [],
   "source": [
    "import uuid"
   ]
  },
  {
   "cell_type": "markdown",
   "metadata": {
    "id": "Dp03ah-9zGNU"
   },
   "source": [
    "## Add an Entity"
   ]
  },
  {
   "cell_type": "code",
   "execution_count": null,
   "metadata": {
    "id": "KzX5JSF14IDr"
   },
   "outputs": [],
   "source": [
    "fs = fa.get_feature_store()\n",
    "rk = str(uuid.uuid4())\n",
    "test_entity = {'_key': 'test_entity' + rk , 'attribute': 'some value'}\n",
    "entity_info = fs.add_entity(test_entity)\n",
    "cfg = fa.cfg\n",
    "ENTITY_COLL = cfg['arangodb']['entity_col']\n",
    "assert entity_info['_id'] == ENTITY_COLL + '/' + ('test_entity' + rk)\n",
    "assert entity_info['_key'] == ('test_entity' + rk)\n"
   ]
  },
  {
   "cell_type": "markdown",
   "metadata": {
    "id": "NNCVM5IPzbhZ"
   },
   "source": [
    "## Add a Feature Value"
   ]
  },
  {
   "cell_type": "code",
   "execution_count": null,
   "metadata": {
    "id": "G0rEXS4P4pJ5"
   },
   "outputs": [],
   "source": [
    "rk2 = str(uuid.uuid4())\n",
    "test_value = {'_key': 'test_value' + rk2, 'attribute': [0.1234, 0.1234, 0.1234]}\n",
    "value_info = fs.add_value(test_value)\n",
    "cfg = fa.cfg\n",
    "FEATURE_VAL_COLL = cfg['arangodb']['feature_value_col']\n",
    "assert value_info['_id'] == FEATURE_VAL_COLL + '/' + ('test_value' + rk2)\n",
    "assert value_info['_key'] == ('test_value' + rk2)"
   ]
  },
  {
   "cell_type": "markdown",
   "metadata": {
    "id": "eu0mwNB5zfKN"
   },
   "source": [
    "## Associate a Feature Value with an Entity\n",
    "**Note**: Note the tag attribute specified"
   ]
  },
  {
   "cell_type": "code",
   "execution_count": null,
   "metadata": {
    "id": "dFwjtz0W42rg"
   },
   "outputs": [],
   "source": [
    "edoc = {'_from': entity_info['_key'],'_to': value_info['_key'], 'tag': 'model-xyz'}\n",
    "edge_info = fs.link_entity_feature_value(edoc)\n",
    "EDGE_COLL = cfg['arangodb']['edge_col']\n",
    "# edge_id = EDGE_COLL + '/' + edge_info['_key'] + '-' + value_info['_key']\n",
    "# assert edge_info['_id'] == edge_id\n"
   ]
  },
  {
   "cell_type": "markdown",
   "metadata": {
    "id": "VTmHGD8zzsTH"
   },
   "source": [
    "## Lookup/Search for an Entity by Tag"
   ]
  },
  {
   "cell_type": "code",
   "execution_count": null,
   "metadata": {
    "colab": {
     "base_uri": "https://localhost:8080/"
    },
    "id": "C1TpC6kK7PAu",
    "outputId": "b5bf2f23-51f9-4f9c-f0c3-8b72589df154"
   },
   "outputs": [],
   "source": [
    "fs.find_entity(attrib_name='_key', attrib_value= \"test_entity\" + rk)"
   ]
  },
  {
   "cell_type": "markdown",
   "metadata": {
    "id": "uN_LOTWuzxeL"
   },
   "source": [
    "## Add a Dataset with a Tag attribute to the Feature Store"
   ]
  },
  {
   "cell_type": "code",
   "execution_count": null,
   "metadata": {
    "colab": {
     "base_uri": "https://localhost:8080/"
    },
    "id": "OaKWZgnPrAOE",
    "outputId": "83db619d-02ac-4481-f934-fa1f29877afe"
   },
   "outputs": [],
   "source": [
    "DATASET_SIZE = 10\n",
    "EDGE_COLL = cfg['arangodb']['edge_col']\n",
    "for i in range(DATASET_SIZE):\n",
    "  rkd = str(uuid.uuid4())\n",
    "  test_entity_ds = {'_key': 'test_entity' + rkd , 'attribute': 'some value'}\n",
    "  entity_info_ds = fs.add_entity(test_entity_ds)\n",
    "  rkd2 = str(uuid.uuid4())\n",
    "  test_value_ds = {'_key': 'test_value' + rkd2, 'attribute': [0.1234, 0.1234, 0.1234]}\n",
    "  value_info_ds = fs.add_value(test_value_ds)\n",
    "  edoc_ds = {'_from': entity_info_ds['_key'],'_to': value_info_ds['_key'], 'tag': 'model-xyz'}\n",
    "  edge_info_ds = fs.link_entity_feature_value(edoc_ds)\n",
    "  print(f\"Added doc # {(i+1)} to feature store with tag: model-xyz\")\n",
    "\n"
   ]
  },
  {
   "cell_type": "markdown",
   "metadata": {
    "id": "9aMNW_9rz4kS"
   },
   "source": [
    "## Retrieve a FeatureSet with a specified Tag Property Value"
   ]
  },
  {
   "cell_type": "code",
   "execution_count": null,
   "metadata": {
    "colab": {
     "base_uri": "https://localhost:8080/"
    },
    "id": "Q7JM-cPEsvR-",
    "outputId": "7af70353-f513-4533-c737-a8b4ab86731a"
   },
   "outputs": [],
   "source": [
    "fs.get_featureset_with_tag('tag', 'model-xyz')"
   ]
  }
 ],
 "metadata": {
  "colab": {
   "collapsed_sections": [],
   "name": "arangomlFeatureStoreDemo.ipynb",
   "provenance": []
  },
  "kernelspec": {
   "display_name": "Python 3",
   "language": "python",
   "name": "python3"
  },
  "language_info": {
   "codemirror_mode": {
    "name": "ipython",
    "version": 3
   },
   "file_extension": ".py",
   "mimetype": "text/x-python",
   "name": "python",
   "nbconvert_exporter": "python",
   "pygments_lexer": "ipython3",
   "version": "3.7.6"
  }
 },
 "nbformat": 4,
 "nbformat_minor": 1
}
