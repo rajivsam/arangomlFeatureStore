{
 "cells": [
  {
   "cell_type": "markdown",
   "metadata": {
    "id": "3QklNxfiPCt3"
   },
   "source": [
    "<a href=\"https://colab.research.google.com/github/rajivsam/arangomlFeatureStore/blob/master/examples/feature_store_consumer_application.ipynb\">\n",
    "  <img src=\"https://colab.research.google.com/assets/colab-badge.svg\" alt=\"Open In Colab\"/>\n",
    "</a>"
   ]
  },
  {
   "cell_type": "markdown",
   "metadata": {},
   "source": [
    "## Overview\n",
    "The purpose of this notebook is to illustrate how a recommender system application can use the  _arangomlFeatureStore_ to make recommendations. The application will need to connect to feature store to retrieve embeddings. The connection information provided here is representative. You will need to replace it with the information specific to your case. If you are running this notebook immediately after running the _feature_store_producer_DS.ipynb_ notebook, you can use the connection information obtained by running the last cell in that notebook. The details of the tasks involved in making recommendations are in cells labeled appropriately."
   ]
  },
  {
   "cell_type": "markdown",
   "metadata": {},
   "source": [
    "## Install the required packages"
   ]
  },
  {
   "cell_type": "code",
   "execution_count": null,
   "metadata": {
    "colab": {
     "base_uri": "https://localhost:8080/"
    },
    "id": "R4bTrCzD-U6y",
    "outputId": "c9506289-5ff3-436b-e060-d3b0e00c1e05"
   },
   "outputs": [],
   "source": [
    "!pip install -i https://test.pypi.org/simple/ arangomlFeatureStore\n",
    "!pip install  pyArango python-arango PyYAML==5.2 numpy scikit-surprise"
   ]
  },
  {
   "cell_type": "markdown",
   "metadata": {},
   "source": [
    "## Provide the connection information to the Feature Store\n",
    "__Note: THIS IS REPRESENTATIVE AND PROVIDED FOR ILLUSTRATION. REPLACE WITH INFORMATION VALID FOR YOUR SESSION__ "
   ]
  },
  {
   "cell_type": "code",
   "execution_count": null,
   "metadata": {
    "id": "Ma0qD-TNFvjd"
   },
   "outputs": [],
   "source": [
    "connection_info_producer_fs = {'dbName': 'TUTpoaywuvsyv9bogx0e3vdnr',\n",
    " 'edge_col': 'entity-feature-value',\n",
    " 'entity_col': 'entity',\n",
    " 'feature_value_col': 'feature-value',\n",
    " 'graph_name': 'feature_store_graph',\n",
    " 'hostname': 'tutorials.arangodb.cloud',\n",
    " 'password': 'TUTc9fby27ixqcidev68cmxbc',\n",
    " 'port': 8529,\n",
    " 'protocol': 'https',\n",
    " 'replication_factor': 3,\n",
    " 'username': 'TUTu6kipkgspt01shbmdi3gg9'}\n"
   ]
  },
  {
   "cell_type": "markdown",
   "metadata": {},
   "source": [
    "## Set up the arangomlFeatureStore for use in colab"
   ]
  },
  {
   "cell_type": "code",
   "execution_count": null,
   "metadata": {
    "colab": {
     "base_uri": "https://localhost:8080/"
    },
    "id": "rpO7my6RF0Ah",
    "outputId": "affa5da4-0c27-42a1-ba92-faee333f6151"
   },
   "outputs": [],
   "source": [
    "import arangomlFeatureStore as p\n",
    "import sys\n",
    "sys.path.append(p.__path__)\n",
    "print(f\"Feature store at {p.__path__}\")\n",
    "sys.path.insert(0, p.__path__)\n"
   ]
  },
  {
   "cell_type": "code",
   "execution_count": null,
   "metadata": {
    "id": "6lbCLtjWGFgu"
   },
   "outputs": [],
   "source": [
    "!chmod -R 777 /usr/local/lib/python3.7/dist-packages/arangomlFeatureStore"
   ]
  },
  {
   "cell_type": "code",
   "execution_count": null,
   "metadata": {
    "id": "IzFUOdFTGI3c"
   },
   "outputs": [],
   "source": [
    "from arangomlFeatureStore.feature_store_admin import FeatureStoreAdmin\n",
    "from arango.database import StandardDatabase"
   ]
  },
  {
   "cell_type": "markdown",
   "metadata": {},
   "source": [
    "## Connect to the FeatureStore specified by the connection information"
   ]
  },
  {
   "cell_type": "code",
   "execution_count": null,
   "metadata": {
    "id": "68IULrAfGMEf"
   },
   "outputs": [],
   "source": [
    "fa = FeatureStoreAdmin(conn_config = connection_info_producer_fs)"
   ]
  },
  {
   "cell_type": "code",
   "execution_count": null,
   "metadata": {
    "id": "mTImRj4lu-kD"
   },
   "outputs": [],
   "source": [
    "fs = fa.get_feature_store()"
   ]
  },
  {
   "cell_type": "markdown",
   "metadata": {},
   "source": [
    "## Retrieve the Item embeddings and User embeddings associated with the tags _NMF-item-embeddings_ and _NMF-user-embeddings_ respectively"
   ]
  },
  {
   "cell_type": "code",
   "execution_count": null,
   "metadata": {
    "id": "uhZqVYkZGS2t"
   },
   "outputs": [],
   "source": [
    "item_embs = fs.get_featureset_with_tag('tag', 'NMF-item-embeddings')"
   ]
  },
  {
   "cell_type": "code",
   "execution_count": null,
   "metadata": {
    "id": "vq9mp9RiGnAH"
   },
   "outputs": [],
   "source": [
    "user_embs = fs.get_featureset_with_tag('tag', 'NMF-user-embeddings')"
   ]
  },
  {
   "cell_type": "markdown",
   "metadata": {},
   "source": [
    "## Need to convert JSON to numeric type (Marshalling and Unmarshalling from JSON to Python)"
   ]
  },
  {
   "cell_type": "code",
   "execution_count": null,
   "metadata": {
    "id": "_gzfHD20vS9o"
   },
   "outputs": [],
   "source": [
    "import json\n",
    "item_col_names = []\n",
    "embedding_rows = []\n",
    "\n",
    "for row in item_embs:\n",
    "  item_id_toks = row['_key'].split('-')\n",
    "  item_id = item_id_toks[1]\n",
    "  item_col_names.append(item_id)\n",
    "  embedding_rows.append(json.loads(row['embedding']))\n"
   ]
  },
  {
   "cell_type": "markdown",
   "metadata": {},
   "source": [
    "## Making a recommendation for a user\n",
    "The following steps are performed to make a recommendation for a user. In this segment, a random user, user #24 (or user23 in the zero based array index used by python) is used for illustration.\n",
    "1. The ratings computed for $user23$ from the matrix factorization model is $$ ratings_{user23} = user\\ embedding_{user23}. movie\\ embedding$$, where $user\\ embedding_{user23}$ is a $1\\times5$ dimensional vector and $movie\\ embedding$ is a $5\\times 1638$ matrix. There are $1638$ movies. The code uses items to represent the movies\n",
    "2. From the computed ratings, we filter out the movies that the user has already viewed and rated.\n",
    "3. We then sort the remaineder in descending order of computed ratings from the model\n",
    "4. We recommend the top 10 movies of the sorted list.\n",
    "\n",
    "The segments for each of these steps are shown below"
   ]
  },
  {
   "cell_type": "markdown",
   "metadata": {},
   "source": [
    "## Compute ratings for user23 from the NMF model"
   ]
  },
  {
   "cell_type": "code",
   "execution_count": null,
   "metadata": {
    "id": "BQ61jn7tvaFA"
   },
   "outputs": [],
   "source": [
    "import numpy as np\n",
    "item_embs_T = np.array(embedding_rows).transpose()"
   ]
  },
  {
   "cell_type": "code",
   "execution_count": null,
   "metadata": {
    "id": "yyg1Kj_Bvjfd"
   },
   "outputs": [],
   "source": [
    "user23_emb = np.array(json.loads(user_embs[23]['embedding']))"
   ]
  },
  {
   "cell_type": "code",
   "execution_count": null,
   "metadata": {
    "id": "MItoT5uIvrS7"
   },
   "outputs": [],
   "source": [
    "user23_emb = user23_emb.reshape((1, user23_emb.shape[0]))"
   ]
  },
  {
   "cell_type": "code",
   "execution_count": null,
   "metadata": {
    "colab": {
     "base_uri": "https://localhost:8080/"
    },
    "id": "lvZzhnGPw_A4",
    "outputId": "521935a3-17c5-47ce-f315-af13470fee5c"
   },
   "outputs": [],
   "source": [
    "item_embs_T.shape"
   ]
  },
  {
   "cell_type": "code",
   "execution_count": null,
   "metadata": {
    "id": "wN1S3mSxv2Fs"
   },
   "outputs": [],
   "source": [
    "import pandas as pd\n",
    "df_user23_nmf = pd.DataFrame(np.matmul(user23_emb, item_embs_T)).transpose()\n",
    "df_user23_nmf.columns = [\"NMF_calc_rating\"]\n",
    "df_user23_nmf[\"Item_ID\"] = item_col_names\n",
    "df_user23_nmf[\"actual_rating\"] = ['not rated']*df_user23_nmf.shape[0]\n",
    "df_user23_nmf = df_user23_nmf.set_index('Item_ID')\n"
   ]
  },
  {
   "cell_type": "code",
   "execution_count": null,
   "metadata": {
    "colab": {
     "base_uri": "https://localhost:8080/",
     "height": 237
    },
    "id": "Q3XYxgIdxNPH",
    "outputId": "26bf3ff6-e1b1-4be1-d6e9-40cc756f2b5b"
   },
   "outputs": [],
   "source": [
    "df_user23_nmf.head()"
   ]
  },
  {
   "cell_type": "markdown",
   "metadata": {},
   "source": [
    "## Determine the movies that the user has already seen"
   ]
  },
  {
   "cell_type": "code",
   "execution_count": null,
   "metadata": {
    "id": "EPL3aGSkxP-f"
   },
   "outputs": [],
   "source": [
    "user23 = fs.find_entity(attrib_name='_key', attrib_value= user_embs[23]['_key'])"
   ]
  },
  {
   "cell_type": "markdown",
   "metadata": {},
   "source": [
    "## Movies rated have a numeric value, those not rated will have the value \"not rated\" in the actual_rating column of the data frame created above"
   ]
  },
  {
   "cell_type": "code",
   "execution_count": null,
   "metadata": {
    "id": "TFrY3wRQyIoT"
   },
   "outputs": [],
   "source": [
    "for k, v in user23[0]['ratings'].items():\n",
    "  df_user23_nmf.at[k, \"actual_rating\"] = v\n",
    "\n"
   ]
  },
  {
   "cell_type": "code",
   "execution_count": null,
   "metadata": {
    "colab": {
     "base_uri": "https://localhost:8080/",
     "height": 455
    },
    "id": "hINGpNX3yQ-c",
    "outputId": "1f7084cf-314f-48fd-8b24-118ee7b6c484"
   },
   "outputs": [],
   "source": [
    "df_user23_nmf"
   ]
  },
  {
   "cell_type": "markdown",
   "metadata": {},
   "source": [
    "## Filter the \"not rated\" movies"
   ]
  },
  {
   "cell_type": "code",
   "execution_count": null,
   "metadata": {
    "id": "z7R_jN1NyVlc"
   },
   "outputs": [],
   "source": [
    "df_user23_nmf_us = df_user23_nmf.query('actual_rating == \"not rated\"')"
   ]
  },
  {
   "cell_type": "markdown",
   "metadata": {},
   "source": [
    "## Sort in descending order of computed ratings and serve the top 10"
   ]
  },
  {
   "cell_type": "code",
   "execution_count": null,
   "metadata": {
    "colab": {
     "base_uri": "https://localhost:8080/",
     "height": 395
    },
    "id": "v6zzTthOyb12",
    "outputId": "425732f1-b920-4a5e-cbb0-8b1a8fbfc529"
   },
   "outputs": [],
   "source": [
    "df_user23_nmf_us.sort_values(by = [\"NMF_calc_rating\"], ascending=False).head(10)"
   ]
  }
 ],
 "metadata": {
  "colab": {
   "collapsed_sections": [],
   "name": "feature_store_consumer_application.ipynb",
   "provenance": []
  },
  "kernelspec": {
   "display_name": "Python 3",
   "language": "python",
   "name": "python3"
  },
  "language_info": {
   "codemirror_mode": {
    "name": "ipython",
    "version": 3
   },
   "file_extension": ".py",
   "mimetype": "text/x-python",
   "name": "python",
   "nbconvert_exporter": "python",
   "pygments_lexer": "ipython3",
   "version": "3.7.6"
  }
 },
 "nbformat": 4,
 "nbformat_minor": 1
}
